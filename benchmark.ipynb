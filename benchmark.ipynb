{
 "cells": [
  {
   "cell_type": "code",
   "execution_count": 1,
   "id": "390adc96",
   "metadata": {},
   "outputs": [],
   "source": [
    "import pandas as pd \n",
    "from utils import get_config, print_config, get_results, write_results\n",
    "from utils.dataloader import dataloader, drop_settlement_dup, bin_avg\n",
    "from utils.loss import plot_loss\n",
    "import yaml\n",
    "import time\n",
    "from datetime import datetime\n",
    "from model.ahbs import AHBS\n",
    "from pathlib import Path\n",
    "import os\n",
    "import numpy as np\n",
    "from sklearn.linear_model import LinearRegression\n",
    "from sklearn.metrics import r2_score"
   ]
  },
  {
   "cell_type": "code",
   "execution_count": 14,
   "id": "01e94bec",
   "metadata": {},
   "outputs": [],
   "source": [
    "option_type = 'put'\n",
    "run = 'short_ttm'\n",
    "smooth = True\n",
    "folder_path = 'data/final/binned/'"
   ]
  },
  {
   "cell_type": "code",
   "execution_count": null,
   "id": "fdf035e8",
   "metadata": {},
   "outputs": [],
   "source": [
    "\n",
    "def load_data(run, option_type, covariate_columns, full_train=False):\n",
    "        \n",
    "    # Let's reshape our input data of the thing... we are going to need labels, and we are going to need train surface.\n",
    "    # The labels will be, the smoothed IVs of our data\n",
    "    # The train will be the dimensions, with time x ttm x moneyness encoders\n",
    "    # If we have covariates, the channels will be larger? -> Yes, starting channels will be added to the layers\n",
    "    # Load the data for train/val/test\n",
    "\n",
    "    if not full_train:\n",
    "        if run == 'short_ttm':\n",
    "            data_train = pd.read_csv('data/final/smoothed/data_train.csv')\n",
    "            data_val = pd.read_csv('data/final/evaluation/validation_set.csv')\n",
    "            data_test = pd.read_csv('data/final/evaluation/test_set.csv')\n",
    "\n",
    "            if option_type =='put':\n",
    "                print(f'selected {option_type}')\n",
    "                data_train = data_train[data_train['cp_flag']=='P']\n",
    "                data_val = data_val[data_val['cp_flag']=='P']\n",
    "                data_test = data_test[data_test['cp_flag']=='P']\n",
    "            elif option_type =='call':\n",
    "                print(f'selected {option_type}')\n",
    "                data_train = data_train[data_train['cp_flag']=='C']\n",
    "                data_val = data_val[data_val['cp_flag']=='C']\n",
    "                data_test = data_test[data_test['cp_flag']=='C']\n",
    "\n",
    "            if covariate_columns:\n",
    "                covar_df = pd.read_excel('data/final/covariates/covariates_train.xlsx')\n",
    "                covar_df_val = pd.read_excel('data/final/covariates/covariates_validation.xlsx')\n",
    "\n",
    "                covar_df = covar_df.rename(columns={'Date':'date'})\n",
    "                covar_df_val = covar_df_val.rename(columns={'Date':'date'})\n",
    "                covar_df = covar_df[['date'] + covariate_columns]\n",
    "                covar_df_val = covar_df_val[['date'] + covariate_columns]\n",
    "            else:\n",
    "                covar_df = None\n",
    "\n",
    "        else:\n",
    "            print('Select a dataset')\n",
    "\n",
    "        return data_train, data_val, data_test, covar_df\n",
    "    else:\n",
    "        if run == 'short_ttm':\n",
    "            data_train = pd.read_csv('data/final/smoothed/data_train_val.csv')\n",
    "            data_test = pd.read_csv('data/final/evaluation/test_set.csv')\n",
    "\n",
    "            if option_type =='put':\n",
    "                data_train = data_train[data_train['cp_flag']=='P']\n",
    "                data_test = data_test[data_test['cp_flag']=='P']\n",
    "            elif option_type =='call':\n",
    "                data_train = data_train[data_train['cp_flag']=='C']\n",
    "                data_test = data_test[data_test['cp_flag']=='C']\n",
    "\n",
    "            if covariate_columns:\n",
    "                covar_df_val = pd.read_excel('data/final/covariates/covariates_validation.xlsx')\n",
    "                covar_df_val = covar_df_val.rename(columns={'Date':'date'})\n",
    "                covar_df_val = covar_df_val[['date'] + covariate_columns]\n",
    "            else:\n",
    "                covar_df_val = None\n",
    "\n",
    "        elif run == 'long_ttm':\n",
    "            data_train = pd.read_csv('data/final/smoothed/data_train_val_long.csv')\n",
    "            data_test = pd.read_csv('data/final/evaluation/test_set_long.csv')\n",
    "\n",
    "            if option_type =='put':\n",
    "                data_train = data_train[data_train['cp_flag']=='P']\n",
    "                data_test = data_test[data_test['cp_flag']=='P']\n",
    "            elif option_type =='call':\n",
    "                data_train = data_train[data_train['cp_flag']=='C']\n",
    "                data_test = data_test[data_test['cp_flag']=='C']\n",
    "                \n",
    "            if covariate_columns:\n",
    "                covar_df_val = pd.read_excel('data/final/covariates/covariates_validation_long.xlsx')\n",
    "                covar_df_val = covar_df_val.rename(columns={'Date':'date'})\n",
    "                covar_df_val = covar_df_val[['date'] + covariate_columns]\n",
    "            else:\n",
    "                covar_df_val = None\n",
    "        \n",
    "        else:\n",
    "            print('Select a dataset')\n",
    "\n",
    "        return data_train, data_test, covar_df_val"
   ]
  },
  {
   "cell_type": "code",
   "execution_count": 19,
   "id": "120a34e0",
   "metadata": {},
   "outputs": [
    {
     "name": "stdout",
     "output_type": "stream",
     "text": [
      "selected put\n"
     ]
    }
   ],
   "source": [
    "data_train, data_val, data_test, _ = load_data(run, option_type ,[],False) # full train True is bugged!"
   ]
  },
  {
   "cell_type": "code",
   "execution_count": 20,
   "id": "70c953ea",
   "metadata": {},
   "outputs": [
    {
     "name": "stdout",
     "output_type": "stream",
     "text": [
      "['C' 'P']\n",
      "['C' 'P']\n",
      "['C' 'P']\n"
     ]
    }
   ],
   "source": [
    "def retrieve_data(run, filename, folder_path, raw, covar_df, smooth=False):\n",
    "\n",
    "    print(raw['cp_flag'].unique())\n",
    "    # check if specific file exists. If so, just load them. if not, then compute the whole thing\n",
    "    if os.path.isfile(filename):\n",
    "        data = pd.read_csv(filename)\n",
    "    else:\n",
    "        if not os.path.exists(folder_path):\n",
    "            os.makedirs(folder_path)\n",
    "        # Make train data\n",
    "        df = drop_settlement_dup(raw)\n",
    "\n",
    "        if run =='long_ttm':\n",
    "            bins = [0, 21, 63, 126, 189, 252]\n",
    "            labels = [1, 2, 3, 4, 5] # bin the maturities if it is a long term ttm\n",
    "            df['maturity'] = pd.cut(df['maturity'], bins=bins, labels=labels, include_lowest=True, right=True).astype('Int64') \n",
    "            df = df.dropna(subset=['maturity'])\n",
    "        \n",
    "        moneyness_grid = np.arange(0.80, 1.21, 0.05)\n",
    "        data = bin_avg(df, moneyness_grid, train=smooth)\n",
    "        data.to_csv(filename)\n",
    "    \n",
    "    data['date'] = pd.to_datetime(data['date'])\n",
    "    if covar_df is not None:\n",
    "        data = pd.merge(data, covar_df, on='date', how='left')\n",
    "    data = data.dropna()\n",
    "\n",
    "    return data\n",
    "\n",
    "train_name = f\"data/final/binned/train_{run}_{option_type}_{smooth}.csv\"\n",
    "val_name = f\"data/final/binned/val_{run}_{option_type}.csv\"\n",
    "test_name = f\"data/final/binned/test_{run}_{option_type}.csv\"\n",
    "\n",
    "data_train = retrieve_data(run, train_name,  folder_path, data_train, None, smooth)\n",
    "data_val = retrieve_data(run, val_name, folder_path, data_val, None)\n",
    "data_test = retrieve_data(run, test_name, folder_path, data_test, None)"
   ]
  },
  {
   "cell_type": "code",
   "execution_count": 13,
   "id": "f500092a",
   "metadata": {},
   "outputs": [
    {
     "name": "stdout",
     "output_type": "stream",
     "text": [
      "      Unnamed: 0       date  maturity  moneyness  impl_volatility\n",
      "3              3 2021-12-07         1       0.95         0.483243\n",
      "4              4 2021-12-07         1       1.00         0.174480\n",
      "5              5 2021-12-07         1       1.05         0.391089\n",
      "6              6 2021-12-07         1       1.10         0.526888\n",
      "12            12 2021-12-07         4       0.95         0.121325\n",
      "...          ...        ...       ...        ...              ...\n",
      "5115        5115 2022-02-03         2       0.95         0.186731\n",
      "5116        5116 2022-02-03         2       1.00         0.207458\n",
      "5117        5117 2022-02-03         2       1.05         0.285085\n",
      "5118        5118 2022-02-03         2       1.10         0.370778\n",
      "5119        5119 2022-02-03         2       1.15         0.483184\n",
      "\n",
      "[2298 rows x 5 columns]\n"
     ]
    }
   ],
   "source": [
    "print(data_val)"
   ]
  },
  {
   "cell_type": "code",
   "execution_count": 18,
   "id": "850fd618",
   "metadata": {},
   "outputs": [
    {
     "name": "stdout",
     "output_type": "stream",
     "text": [
      "      Unnamed: 0       date  maturity  moneyness  impl_volatility\n",
      "3              3 2021-12-07         1       0.95         0.483243\n",
      "4              4 2021-12-07         1       1.00         0.174480\n",
      "5              5 2021-12-07         1       1.05         0.391089\n",
      "6              6 2021-12-07         1       1.10         0.526888\n",
      "12            12 2021-12-07         4       0.95         0.121325\n",
      "...          ...        ...       ...        ...              ...\n",
      "5115        5115 2022-02-03         2       0.95         0.186731\n",
      "5116        5116 2022-02-03         2       1.00         0.207458\n",
      "5117        5117 2022-02-03         2       1.05         0.285085\n",
      "5118        5118 2022-02-03         2       1.10         0.370778\n",
      "5119        5119 2022-02-03         2       1.15         0.483184\n",
      "\n",
      "[2298 rows x 5 columns]\n"
     ]
    }
   ],
   "source": [
    "print(data_val)"
   ]
  },
  {
   "cell_type": "code",
   "execution_count": 94,
   "id": "ac066067",
   "metadata": {},
   "outputs": [],
   "source": [
    "df= pd.read_csv('data/final/smoothed/data_train.csv')"
   ]
  },
  {
   "cell_type": "code",
   "execution_count": 96,
   "id": "6500d21c",
   "metadata": {},
   "outputs": [
    {
     "name": "stdout",
     "output_type": "stream",
     "text": [
      "        Unnamed: 0        date               symbol      exdate   last_date  \\\n",
      "0                0  2012-01-03  SPXW 120106C1200000  2012-01-06  03/01/2012   \n",
      "1                1  2012-01-03  SPXW 120106C1210000  2012-01-06  03/01/2012   \n",
      "2                2  2012-01-03  SPXW 120106C1220000  2012-01-06  03/01/2012   \n",
      "3                3  2012-01-03  SPXW 120106C1230000  2012-01-06  03/01/2012   \n",
      "4                4  2012-01-03  SPXW 120106C1235000  2012-01-06  03/01/2012   \n",
      "...            ...         ...                  ...         ...         ...   \n",
      "579882      579882  2021-12-06  SPXW 211213C4830000  2021-12-13  06/12/2021   \n",
      "579883      579883  2021-12-06  SPXW 211213C4835000  2021-12-13  06/12/2021   \n",
      "579884      579884  2021-12-06  SPXW 211213C4840000  2021-12-13  06/12/2021   \n",
      "579885      579885  2021-12-06  SPXW 211213C4845000  2021-12-13  06/12/2021   \n",
      "579886      579886  2021-12-06  SPXW 211213C4850000  2021-12-13  06/12/2021   \n",
      "\n",
      "       cp_flag  strike_price  best_bid  best_offer  volume  ...         Open  \\\n",
      "0            C          1200     75.80       78.70       2  ...  1258.859985   \n",
      "1            C          1210     66.00       68.80       1  ...  1258.859985   \n",
      "2            C          1220     56.10       58.80       1  ...  1258.859985   \n",
      "3            C          1230     46.20       49.10       1  ...  1258.859985   \n",
      "4            C          1235     41.40       44.10       1  ...  1258.859985   \n",
      "...        ...           ...       ...         ...     ...  ...          ...   \n",
      "579882       C          4830      0.15        0.25      18  ...  4548.370117   \n",
      "579883       C          4835      0.10        0.20      10  ...  4548.370117   \n",
      "579884       C          4840      0.10        0.20      20  ...  4548.370117   \n",
      "579885       C          4845      0.10        0.20      97  ...  4548.370117   \n",
      "579886       C          4850      0.10        0.20      17  ...  4548.370117   \n",
      "\n",
      "               High          Low        Close    Adj Close      Volume  \\\n",
      "0       1284.619995  1258.859985  1277.060059  1277.060059  3943710000   \n",
      "1       1284.619995  1258.859985  1277.060059  1277.060059  3943710000   \n",
      "2       1284.619995  1258.859985  1277.060059  1277.060059  3943710000   \n",
      "3       1284.619995  1258.859985  1277.060059  1277.060059  3943710000   \n",
      "4       1284.619995  1258.859985  1277.060059  1277.060059  3943710000   \n",
      "...             ...          ...          ...          ...         ...   \n",
      "579882  4612.600098  4540.509766  4591.669922  4591.669922  4770800000   \n",
      "579883  4612.600098  4540.509766  4591.669922  4591.669922  4770800000   \n",
      "579884  4612.600098  4540.509766  4591.669922  4591.669922  4770800000   \n",
      "579885  4612.600098  4540.509766  4591.669922  4591.669922  4770800000   \n",
      "579886  4612.600098  4540.509766  4591.669922  4591.669922  4770800000   \n",
      "\n",
      "        moneyness  midpoint  year  IV_smooth  \n",
      "0        1.064217     77.25  2012   0.356446  \n",
      "1        1.055422     67.40  2012   0.333749  \n",
      "2        1.046771     57.45  2012   0.296131  \n",
      "3        1.038260     47.65  2012   0.268058  \n",
      "4        1.034057     42.75  2012   0.251624  \n",
      "...           ...       ...   ...        ...  \n",
      "579882   0.950656      0.20  2021   0.144974  \n",
      "579883   0.949673      0.15  2021   0.146664  \n",
      "579884   0.948692      0.15  2021   0.148513  \n",
      "579885   0.947713      0.15  2021   0.150522  \n",
      "579886   0.946736      0.15  2021   0.152694  \n",
      "\n",
      "[223649 rows x 30 columns]\n"
     ]
    }
   ],
   "source": [
    "print(df[df['cp_flag']=='C'])"
   ]
  },
  {
   "cell_type": "code",
   "execution_count": 97,
   "id": "3b53ba30",
   "metadata": {},
   "outputs": [
    {
     "name": "stdout",
     "output_type": "stream",
     "text": [
      "        Unnamed: 0        date               symbol      exdate   last_date  \\\n",
      "23              23  2012-01-03  SPXW 120106P1195000  2012-01-06  03/01/2012   \n",
      "24              24  2012-01-03  SPXW 120106P1200000  2012-01-06  03/01/2012   \n",
      "25              25  2012-01-03  SPXW 120106P1205000  2012-01-06  03/01/2012   \n",
      "26              26  2012-01-03  SPXW 120106P1210000  2012-01-06  03/01/2012   \n",
      "27              27  2012-01-03  SPXW 120106P1215000  2012-01-06  03/01/2012   \n",
      "...            ...         ...                  ...         ...         ...   \n",
      "580063      580063  2021-12-06  SPXW 211213P4760000  2021-12-13  06/12/2021   \n",
      "580064      580064  2021-12-06  SPXW 211213P4770000  2021-12-13  06/12/2021   \n",
      "580065      580065  2021-12-06  SPXW 211213P4775000  2021-12-13  06/12/2021   \n",
      "580066      580066  2021-12-06  SPXW 211213P4820000  2021-12-13  06/12/2021   \n",
      "580067      580067  2021-12-06  SPXW 211213P4840000  2021-12-13  06/12/2021   \n",
      "\n",
      "       cp_flag  strike_price  best_bid  best_offer  volume  ...         Open  \\\n",
      "23           P          1195      0.10        0.20     479  ...  1258.859985   \n",
      "24           P          1200      0.15        0.20     941  ...  1258.859985   \n",
      "25           P          1205      0.15        0.30     582  ...  1258.859985   \n",
      "26           P          1210      0.25        0.30     435  ...  1258.859985   \n",
      "27           P          1215      0.20        0.35     562  ...  1258.859985   \n",
      "...        ...           ...       ...         ...     ...  ...          ...   \n",
      "580063       P          4760    169.00      171.90      65  ...  4548.370117   \n",
      "580064       P          4770    177.10      183.10      75  ...  4548.370117   \n",
      "580065       P          4775    182.00      188.30       3  ...  4548.370117   \n",
      "580066       P          4820    226.10      232.60      10  ...  4548.370117   \n",
      "580067       P          4840    246.60      252.50       6  ...  4548.370117   \n",
      "\n",
      "               High          Low        Close    Adj Close      Volume  \\\n",
      "23      1284.619995  1258.859985  1277.060059  1277.060059  3943710000   \n",
      "24      1284.619995  1258.859985  1277.060059  1277.060059  3943710000   \n",
      "25      1284.619995  1258.859985  1277.060059  1277.060059  3943710000   \n",
      "26      1284.619995  1258.859985  1277.060059  1277.060059  3943710000   \n",
      "27      1284.619995  1258.859985  1277.060059  1277.060059  3943710000   \n",
      "...             ...          ...          ...          ...         ...   \n",
      "580063  4612.600098  4540.509766  4591.669922  4591.669922  4770800000   \n",
      "580064  4612.600098  4540.509766  4591.669922  4591.669922  4770800000   \n",
      "580065  4612.600098  4540.509766  4591.669922  4591.669922  4770800000   \n",
      "580066  4612.600098  4540.509766  4591.669922  4591.669922  4770800000   \n",
      "580067  4612.600098  4540.509766  4591.669922  4591.669922  4770800000   \n",
      "\n",
      "        moneyness  midpoint  year  IV_smooth  \n",
      "23       1.068670     0.150  2012   0.323585  \n",
      "24       1.064217     0.175  2012   0.312246  \n",
      "25       1.059801     0.225  2012   0.304897  \n",
      "26       1.055422     0.275  2012   0.295065  \n",
      "27       1.051078     0.275  2012   0.275789  \n",
      "...           ...       ...   ...        ...  \n",
      "580063   0.964637   170.450  2021   0.133277  \n",
      "580064   0.962614   180.100  2021   0.129533  \n",
      "580065   0.961606   185.150  2021   0.127670  \n",
      "580066   0.952629   229.350  2021   0.111192  \n",
      "580067   0.948692   249.550  2021   0.104033  \n",
      "\n",
      "[356419 rows x 30 columns]\n"
     ]
    }
   ],
   "source": [
    "print(df[df['cp_flag']=='P'])"
   ]
  },
  {
   "cell_type": "code",
   "execution_count": 79,
   "id": "31ae44df",
   "metadata": {},
   "outputs": [
    {
     "name": "stdout",
     "output_type": "stream",
     "text": [
      "             date  maturity  moneyness  impl_volatility\n",
      "3      2012-01-03         3       0.95         0.185412\n",
      "4      2012-01-03         3       1.00         0.185676\n",
      "5      2012-01-03         3       1.05         0.278790\n",
      "57     2020-07-06         5       0.95         0.180420\n",
      "58     2020-07-06         5       1.00         0.191077\n",
      "...           ...       ...        ...              ...\n",
      "108203 2015-08-14         4       1.05         0.183059\n",
      "108204 2015-08-14         4       1.10         0.282980\n",
      "108228 2015-08-17         3       0.95         0.168562\n",
      "108229 2015-08-17         3       1.00         0.117394\n",
      "108230 2015-08-17         3       1.05         0.249170\n",
      "\n",
      "[23862 rows x 4 columns]\n"
     ]
    }
   ],
   "source": [
    "print(data_train)"
   ]
  },
  {
   "cell_type": "code",
   "execution_count": 80,
   "id": "fe53a993",
   "metadata": {},
   "outputs": [],
   "source": [
    "# AHBS accepts maturity in years, not in days\n",
    "\n",
    "data_train['maturity'] = data_train['maturity'] / 252\n",
    "data_val['maturity'] = data_val['maturity'] / 252\n",
    "data_test['maturity'] = data_test['maturity'] / 252"
   ]
  },
  {
   "cell_type": "code",
   "execution_count": 81,
   "id": "ed519f95",
   "metadata": {},
   "outputs": [],
   "source": [
    "# AHBS is rolling, and we don't need the entire train sample to make a prediction\n",
    "# it just trains on the IVS of one particular day\n",
    "\n",
    "last_date = data_val['date'].max()\n",
    "last_ivs= data_val[data_val['date']==last_date].copy()\n",
    "data_test = pd.concat([last_ivs, data_test], ignore_index=True)"
   ]
  },
  {
   "cell_type": "code",
   "execution_count": 82,
   "id": "610f37b0",
   "metadata": {},
   "outputs": [
    {
     "name": "stdout",
     "output_type": "stream",
     "text": [
      "           date  maturity  moneyness  impl_volatility\n",
      "0    2022-05-19  0.003968       0.95         0.370043\n",
      "1    2022-05-19  0.003968       1.00         0.357870\n",
      "2    2022-05-19  0.003968       1.05         0.431853\n",
      "3    2022-05-19  0.003968       1.10         0.602428\n",
      "4    2022-05-19  0.015873       0.90         0.284850\n",
      "...         ...       ...        ...              ...\n",
      "5563 2022-08-22  0.011905       0.95         0.206340\n",
      "5564 2022-08-22  0.011905       1.00         0.219023\n",
      "5565 2022-08-22  0.011905       1.05         0.262478\n",
      "5566 2022-08-22  0.011905       1.10         0.408368\n",
      "5567 2022-08-22  0.011905       1.15         0.500751\n",
      "\n",
      "[5568 rows x 4 columns]\n"
     ]
    }
   ],
   "source": [
    "print(data_test) # run this through the abs"
   ]
  },
  {
   "cell_type": "code",
   "execution_count": 83,
   "id": "86c335e5",
   "metadata": {},
   "outputs": [
    {
     "name": "stdout",
     "output_type": "stream",
     "text": [
      "      moneyness  maturity       date   iv_pred  iv_pred_5  iv_pred_10\n",
      "0          0.80  0.003968 2022-05-19  0.383757   0.383757    0.383757\n",
      "1          0.85  0.003968 2022-05-19  0.349721   0.349721    0.349721\n",
      "2          0.90  0.003968 2022-05-19  0.337053   0.337053    0.337053\n",
      "3          0.95  0.003968 2022-05-19  0.345755   0.345755    0.345755\n",
      "4          1.00  0.003968 2022-05-19  0.375825   0.375825    0.375825\n",
      "...         ...       ...        ...       ...        ...         ...\n",
      "8770       1.00  0.019841 2023-02-28  0.171737   0.171737    0.171737\n",
      "8771       1.05  0.019841 2023-02-28  0.115461   0.115461    0.115461\n",
      "8772       1.10  0.019841 2023-02-28  0.155284   0.155284    0.155284\n",
      "8773       1.15  0.019841 2023-02-28  0.291206   0.291206    0.291206\n",
      "8774       1.20  0.019841 2023-02-28  0.523228   0.523228    0.523228\n",
      "\n",
      "[8775 rows x 6 columns]\n"
     ]
    }
   ],
   "source": [
    "\n",
    "results = []\n",
    "# Build full (moneyness, maturity) grid\n",
    "all_m = sorted(data_test['moneyness'].unique())\n",
    "all_t = sorted(data_test['maturity'].unique())\n",
    "full_grid = pd.DataFrame([(m, t) for t in all_t for m in all_m], columns=['moneyness', 'maturity'])\n",
    "\n",
    "# Iterate through each date\n",
    "for date, group in data_test.groupby('date'):\n",
    "    group = group.sort_values(['maturity', 'moneyness'])\n",
    "\n",
    "    # Fit on available points\n",
    "    m = group['moneyness'].values\n",
    "    t = group['maturity'].values   # convert to years\n",
    "    iv = group['impl_volatility'].values\n",
    "\n",
    "\n",
    "    X_train = np.column_stack([\n",
    "        np.ones_like(m),\n",
    "        m,\n",
    "        m**2,\n",
    "        t,\n",
    "        t**2,\n",
    "        m * t\n",
    "    ])\n",
    "\n",
    "    model = LinearRegression().fit(X_train, iv)\n",
    "\n",
    "    # Predict on full grid\n",
    "    m_full = full_grid['moneyness'].values\n",
    "    t_full = full_grid['maturity'].values \n",
    "\n",
    "    X_full = np.column_stack([\n",
    "        np.ones_like(m_full),\n",
    "        m_full,\n",
    "        m_full**2,\n",
    "        t_full,\n",
    "        t_full**2,\n",
    "        m_full * t_full\n",
    "    ])\n",
    "\n",
    "    iv_pred = model.predict(X_full)\n",
    "    # 1 step, now 4 extra steps\n",
    "    iv_pred_5 = iv_pred.copy()\n",
    "    for i in range(4):\n",
    "        model_5 = LinearRegression().fit(X_full, iv_pred_5)\n",
    "        iv_pred_5 = model_5.predict(X_full)\n",
    "\n",
    "    iv_pred_10 = iv_pred_5.copy()\n",
    "    for i in range(5):\n",
    "        model_10 = LinearRegression().fit(X_full, iv_pred_10)\n",
    "        iv_pred_10 = model_10.predict(X_full)\n",
    "\n",
    "    result_df = full_grid.copy()\n",
    "    result_df['date'] = date\n",
    "    result_df['iv_pred'] = iv_pred\n",
    "    result_df['iv_pred_5'] = iv_pred_5\n",
    "    result_df['iv_pred_10'] = iv_pred_10\n",
    "\n",
    "    results.append(result_df)\n",
    "\n",
    "# Combine and save\n",
    "final_df = pd.concat(results, ignore_index=True)\n",
    "\n",
    "print(final_df)"
   ]
  },
  {
   "cell_type": "code",
   "execution_count": 84,
   "id": "0865c494",
   "metadata": {},
   "outputs": [],
   "source": [
    "# we got the predictions, now just merge with the orginal data_test to get the metric\n",
    "\n",
    "output_df = pd.merge(final_df, data_test, on=['date', 'moneyness','maturity'], how='left')"
   ]
  },
  {
   "cell_type": "code",
   "execution_count": 85,
   "id": "fc330a89",
   "metadata": {},
   "outputs": [
    {
     "name": "stdout",
     "output_type": "stream",
     "text": [
      "      moneyness  maturity       date   iv_pred  iv_pred_5  iv_pred_10  \\\n",
      "0          0.80  0.003968 2022-05-19  0.383757   0.383757    0.383757   \n",
      "1          0.85  0.003968 2022-05-19  0.349721   0.349721    0.349721   \n",
      "2          0.90  0.003968 2022-05-19  0.337053   0.337053    0.337053   \n",
      "3          0.95  0.003968 2022-05-19  0.345755   0.345755    0.345755   \n",
      "4          1.00  0.003968 2022-05-19  0.375825   0.375825    0.375825   \n",
      "...         ...       ...        ...       ...        ...         ...   \n",
      "8770       1.00  0.019841 2023-02-28  0.171737   0.171737    0.171737   \n",
      "8771       1.05  0.019841 2023-02-28  0.115461   0.115461    0.115461   \n",
      "8772       1.10  0.019841 2023-02-28  0.155284   0.155284    0.155284   \n",
      "8773       1.15  0.019841 2023-02-28  0.291206   0.291206    0.291206   \n",
      "8774       1.20  0.019841 2023-02-28  0.523228   0.523228    0.523228   \n",
      "\n",
      "      impl_volatility  \n",
      "0                 NaN  \n",
      "1                 NaN  \n",
      "2                 NaN  \n",
      "3            0.370043  \n",
      "4            0.357870  \n",
      "...               ...  \n",
      "8770         0.151465  \n",
      "8771         0.193363  \n",
      "8772         0.278654  \n",
      "8773         0.378565  \n",
      "8774         0.458580  \n",
      "\n",
      "[8775 rows x 7 columns]\n"
     ]
    }
   ],
   "source": [
    "print(output_df)"
   ]
  },
  {
   "cell_type": "code",
   "execution_count": 86,
   "id": "e8e462fd",
   "metadata": {},
   "outputs": [],
   "source": [
    "# THE THING IS SHIFTED\n",
    "output_df['iv_pred_shifted'] = output_df.groupby(['moneyness', 'maturity'])['iv_pred'].shift(1)\n",
    "output_df['iv_pred_shifted_5'] = output_df.groupby(['moneyness', 'maturity'])['iv_pred_5'].shift(5)\n",
    "output_df['iv_pred_shifted_10'] = output_df.groupby(['moneyness', 'maturity'])['iv_pred_10'].shift(10)\n",
    "\n",
    "output_df_1 = output_df.dropna(subset=['impl_volatility', 'iv_pred_shifted'])\n",
    "output_df_5 = output_df.dropna(subset=['impl_volatility', 'iv_pred_shifted_5'])\n",
    "output_df_10 = output_df.dropna(subset=['impl_volatility', 'iv_pred_shifted_10'])"
   ]
  },
  {
   "cell_type": "code",
   "execution_count": 87,
   "id": "d24857b9",
   "metadata": {},
   "outputs": [],
   "source": [
    "def calculate_ivrmse(y_true, y_pred):\n",
    "    return np.sqrt(np.mean((y_true - y_pred)**2))"
   ]
  },
  {
   "cell_type": "code",
   "execution_count": 88,
   "id": "e554ccf9",
   "metadata": {},
   "outputs": [
    {
     "name": "stderr",
     "output_type": "stream",
     "text": [
      "C:\\Users\\hydra\\AppData\\Local\\Temp\\ipykernel_26720\\2686978670.py:1: DeprecationWarning: DataFrameGroupBy.apply operated on the grouping columns. This behavior is deprecated, and in a future version of pandas the grouping columns will be excluded from the operation. Either pass `include_groups=False` to exclude the groupings or explicitly select the grouping columns after groupby to silence this warning.\n",
      "  rmse_per_date_1 = output_df_1.groupby('date').apply(\n"
     ]
    }
   ],
   "source": [
    "rmse_per_date_1 = output_df_1.groupby('date').apply(\n",
    "    lambda df: calculate_ivrmse(df['impl_volatility'].values, df['iv_pred_shifted'].values)\n",
    ").reset_index(name='rmse')"
   ]
  },
  {
   "cell_type": "code",
   "execution_count": 89,
   "id": "bad3e161",
   "metadata": {},
   "outputs": [
    {
     "name": "stderr",
     "output_type": "stream",
     "text": [
      "C:\\Users\\hydra\\AppData\\Local\\Temp\\ipykernel_26720\\1981047214.py:1: DeprecationWarning: DataFrameGroupBy.apply operated on the grouping columns. This behavior is deprecated, and in a future version of pandas the grouping columns will be excluded from the operation. Either pass `include_groups=False` to exclude the groupings or explicitly select the grouping columns after groupby to silence this warning.\n",
      "  rmse_per_date_5 = output_df_5.groupby('date').apply(\n"
     ]
    }
   ],
   "source": [
    "rmse_per_date_5 = output_df_5.groupby('date').apply(\n",
    "    lambda df: calculate_ivrmse(df['impl_volatility'].values, df['iv_pred_shifted_5'].values)\n",
    ").reset_index(name='rmse')"
   ]
  },
  {
   "cell_type": "code",
   "execution_count": 90,
   "id": "dee54fff",
   "metadata": {},
   "outputs": [
    {
     "name": "stderr",
     "output_type": "stream",
     "text": [
      "C:\\Users\\hydra\\AppData\\Local\\Temp\\ipykernel_26720\\1886273846.py:1: DeprecationWarning: DataFrameGroupBy.apply operated on the grouping columns. This behavior is deprecated, and in a future version of pandas the grouping columns will be excluded from the operation. Either pass `include_groups=False` to exclude the groupings or explicitly select the grouping columns after groupby to silence this warning.\n",
      "  rmse_per_date_10 = output_df_10.groupby('date').apply(\n"
     ]
    }
   ],
   "source": [
    "rmse_per_date_10 = output_df_10.groupby('date').apply(\n",
    "    lambda df: calculate_ivrmse(df['impl_volatility'].values, df['iv_pred_shifted_10'].values)\n",
    ").reset_index(name='rmse')"
   ]
  },
  {
   "cell_type": "code",
   "execution_count": 91,
   "id": "8a88efb1",
   "metadata": {},
   "outputs": [],
   "source": [
    "rmse_per_date_1.to_csv(f'AHBS_rmse_1_{option_type}.csv')\n",
    "rmse_per_date_5.to_csv(f'AHBS_rmse_5.{option_type}.csv')\n",
    "rmse_per_date_10.to_csv(f'AHBS_rmse_10_{option_type}.csv')"
   ]
  },
  {
   "cell_type": "code",
   "execution_count": 92,
   "id": "046f8619",
   "metadata": {},
   "outputs": [
    {
     "name": "stdout",
     "output_type": "stream",
     "text": [
      "0.22606503291390986\n",
      "0.20706854078459339\n",
      "0.2160839495735118\n"
     ]
    }
   ],
   "source": [
    "print(np.average(rmse_per_date_1['rmse']))\n",
    "print(np.average(rmse_per_date_5['rmse']))\n",
    "print(np.average(rmse_per_date_10['rmse']))"
   ]
  },
  {
   "cell_type": "code",
   "execution_count": 93,
   "id": "d09e4f57",
   "metadata": {},
   "outputs": [
    {
     "name": "stdout",
     "output_type": "stream",
     "text": [
      "0.22606620861136817\n",
      "0.31476480373865545\n",
      "0.2875533887884636\n"
     ]
    }
   ],
   "source": [
    "print(r2_score(output_df_1['impl_volatility'].values, output_df_1['iv_pred_shifted'].values))\n",
    "print(r2_score(output_df_5['impl_volatility'].values, output_df_5['iv_pred_shifted_5'].values))\n",
    "print(r2_score(output_df_10['impl_volatility'].values, output_df_10['iv_pred_shifted_10'].values))"
   ]
  },
  {
   "cell_type": "code",
   "execution_count": null,
   "id": "57884ab8",
   "metadata": {},
   "outputs": [],
   "source": []
  }
 ],
 "metadata": {
  "kernelspec": {
   "display_name": "tf_cpu",
   "language": "python",
   "name": "python3"
  },
  "language_info": {
   "codemirror_mode": {
    "name": "ipython",
    "version": 3
   },
   "file_extension": ".py",
   "mimetype": "text/x-python",
   "name": "python",
   "nbconvert_exporter": "python",
   "pygments_lexer": "ipython3",
   "version": "3.10.16"
  }
 },
 "nbformat": 4,
 "nbformat_minor": 5
}
