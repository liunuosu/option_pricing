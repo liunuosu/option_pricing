{
 "cells": [
  {
   "cell_type": "code",
   "execution_count": 511,
   "metadata": {},
   "outputs": [],
   "source": [
    "import tensorflow as tf\n",
    "from tensorflow import keras\n",
    "from keras import models, layers\n",
    "from pathlib import Path\n",
    "import pandas as pd\n",
    "import numpy as np\n",
    "import matplotlib.pyplot as plt\n",
    "import time\n",
    "import random\n",
    "import os\n",
    "import tensorflow as tf\n",
    "from keras.models import Sequential, Model\n",
    "from keras.layers import ConvLSTM2D, LSTM, BatchNormalization, Conv3D, Conv2D,Input, Dense, Reshape, Concatenate\n",
    "from keras.layers import Masking\n",
    "import yaml\n",
    "from scipy.interpolate import bisplrep, bisplev, griddata, interp1d"
   ]
  },
  {
   "cell_type": "code",
   "execution_count": null,
   "metadata": {},
   "outputs": [
    {
     "name": "stdout",
     "output_type": "stream",
     "text": [
      "{'training': {'window_size': 21, 'batch_size': 32, 'patience': 15, 'epsilon': 1e-06, 'random_state': 42, 'epochs': 100, 'covariates': 'None', 'smooth': True}, 'model': {'run': 'long_ttm', 'option': 'call', 'filters': 2, 'kernel_size': [2, 2], 'strides': 1, 'kernel_initializer': 'glorot_uniform', 'recurrent_initializer': 'orthogonal', 'optimizer': 'adam', 'lr': 0.001, 'covariates': ['VIX', 'VVIX', 'SKEW', 'RVOL', 'TMS', 'CRS', 'EPU', 'ADS']}, 'forecast': {'h_step': 1}}\n"
     ]
    }
   ],
   "source": [
    "with open('configs/config_file_covs.yaml') as file:\n",
    "    params = yaml.safe_load(file)\n",
    "\n",
    "print(params)\n",
    "\n",
    "window_size = params['training']['window_size']\n",
    "patience = params['training']['patience']\n",
    "epsilon = params['training']['epsilon']\n",
    "batch_size = params['training']['batch_size']\n",
    "epochs = params['training']['epochs']\n",
    "\n",
    "run = params['data']['run']\n",
    "smooth = params['data']['smooth']\n",
    "covariate_columns = params['data']['covariates']\n",
    "option_type = params['data']['option']\n",
    "\n",
    "learning_rate = params['model']['lr']\n",
    "\n",
    "\n",
    "h_step = params['forecast']['h_step']"
   ]
  },
  {
   "cell_type": "code",
   "execution_count": 513,
   "metadata": {},
   "outputs": [],
   "source": [
    "# Let's reshape our input data of the thing... we are going to need labels, and we are going to need train surface.\n",
    "# The labels will be, the smoothed IVs of our data\n",
    "# The train will be the dimensions, with time x ttm x moneyness encoders\n",
    "# If we have covariates, the channels will be larger? -> Yes, starting channels will be added to the layers\n",
    "\n",
    "# Load the data first\n",
    "if run == 'short_ttm':\n",
    "    data_train = pd.read_csv('data/final/smoothed/data_train.csv')\n",
    "    data_val = pd.read_csv('data/final/evaluation/validation_set.csv')\n",
    "    data_test = pd.read_csv('data/final/evaluation/test_set.csv')\n",
    "\n",
    "    if option_type =='put':\n",
    "        data_train[data_train['cp_flag']=='P']\n",
    "        data_val[data_val['cp_flag']=='P']\n",
    "        data_test[data_test['cp_flag']=='P']\n",
    "    elif option_type =='call':\n",
    "        data_train[data_train['cp_flag']=='C']\n",
    "        data_val[data_val['cp_flag']=='C']\n",
    "        data_test[data_test['cp_flag']=='C']\n",
    "\n",
    "    if covariate_columns is not None:\n",
    "        covar_df = pd.read_excel('data/final/covariates/covariates_train.xlsx')\n",
    "        covar_df_val = pd.read_excel('data/final/covariates/covariates_validation.xlsx')\n",
    "\n",
    "        covar_df = covar_df.rename(columns={'Date':'date'})\n",
    "        covar_df_val = covar_df_val.rename(columns={'Date':'date'})\n",
    "        covar_df = covar_df[['date'] + covariate_columns]\n",
    "        covar_df_val = covar_df_val[['date'] + covariate_columns]\n",
    "\n",
    "elif run == 'long_ttm':\n",
    "    data_train = pd.read_csv('data/final/smoothed/data_train_long.csv')\n",
    "    data_val = pd.read_csv('data/final/evaluation/validation_set_long.csv')\n",
    "    data_test = pd.read_csv('data/final/evaluation/test_set_long.csv')\n",
    "\n",
    "    if option_type =='put':\n",
    "        data_train[data_train['cp_flag']=='P']\n",
    "        data_val[data_val['cp_flag']=='P']\n",
    "        data_test[data_test['cp_flag']=='P']\n",
    "    elif option_type =='call':\n",
    "        data_train[data_train['cp_flag']=='C']\n",
    "        data_val[data_val['cp_flag']=='C']\n",
    "        data_test[data_test['cp_flag']=='C']\n",
    "        \n",
    "    if covariate_columns is not None:\n",
    "        covar_df = pd.read_excel('data/final/covariates/covariates_train_long.xlsx')\n",
    "        covar_df_val = pd.read_excel('data/final/covariates/covariates_validation_long.xlsx')\n",
    "\n",
    "        covar_df = covar_df.rename(columns={'Date':'date'})\n",
    "        covar_df_val = covar_df_val.rename(columns={'Date':'date'})\n",
    "        covar_df = covar_df[['date'] + covariate_columns]\n",
    "        covar_df_val = covar_df_val[['date'] + covariate_columns]\n",
    "   \n",
    "else:\n",
    "    print('Select a dataset')\n"
   ]
  },
  {
   "cell_type": "code",
   "execution_count": 514,
   "metadata": {},
   "outputs": [],
   "source": [
    "def drop_settlement_dup(df):\n",
    "    df = df.sort_values(by='am_settlement')\n",
    "    df = df.drop_duplicates(subset=['maturity', 'moneyness'], keep='first')\n",
    "    return df\n",
    "\n",
    "data_train = drop_settlement_dup(data_train)\n",
    "data_val = drop_settlement_dup(data_val)\n",
    "data_test = drop_settlement_dup(data_test)"
   ]
  },
  {
   "cell_type": "code",
   "execution_count": 515,
   "metadata": {},
   "outputs": [],
   "source": [
    "def bin_avg(df, moneyness_grid, bin_width=0.05, train=True):\n",
    "   \n",
    "    result = []\n",
    "\n",
    "    for date in df['date'].unique():\n",
    "        for maturity in df['maturity'].unique():\n",
    "            # Filter the data for the current date and maturity\n",
    "            filtered_df = df[(df['date'] == date) & (df['maturity'] == maturity)]\n",
    "            \n",
    "            # Bin each moneyness point within the filtered data\n",
    "            for center in moneyness_grid:\n",
    "                lower = center - (bin_width / 2)\n",
    "                upper = center + (bin_width / 2)\n",
    "\n",
    "                # Select data points within the current bin\n",
    "                bin_data = filtered_df[(filtered_df['moneyness'] >= lower) & (filtered_df['moneyness'] < upper)]\n",
    "                \n",
    "                if train:\n",
    "                    avg_iv = bin_data['IV_smooth'].mean() if not bin_data.empty else np.nan\n",
    "                else:                   \n",
    "                    avg_iv = bin_data['impl_volatility'].mean() if not bin_data.empty else np.nan\n",
    "\n",
    "                # Append the result for this combination of date, maturity, and moneyness\n",
    "                result.append({\n",
    "                    'date': date,\n",
    "                    'maturity': maturity,\n",
    "                    'moneyness': center,\n",
    "                    'impl_volatility': avg_iv\n",
    "                })\n",
    "\n",
    "    # Return the final dataframe with the binned results\n",
    "    return pd.DataFrame(result)\n",
    "\n",
    "# Example usage:\n",
    "moneyness_grid = np.arange(0.80, 1.21, 0.05)  # Example grid\n"
   ]
  },
  {
   "cell_type": "code",
   "execution_count": 516,
   "metadata": {},
   "outputs": [
    {
     "name": "stdout",
     "output_type": "stream",
     "text": [
      "(4550619, 30)\n"
     ]
    }
   ],
   "source": [
    "print(data_train.shape)"
   ]
  },
  {
   "cell_type": "code",
   "execution_count": 517,
   "metadata": {},
   "outputs": [],
   "source": [
    "bins = [0, 21, 63, 126, 189, 270]\n",
    "labels = [1, 2, 3, 4, 5]\n",
    "\n",
    "if run =='long_ttm':\n",
    "    data_train['maturity'] = pd.cut(data_train['maturity'], bins=bins, labels=labels, include_lowest=True, right=True).astype('Int64') \n",
    "    data_val['maturity'] = pd.cut(data_val['maturity'], bins=bins, labels=labels, include_lowest=True, right=True).astype('Int64') \n",
    "    data_test['maturity'] = pd.cut(data_test['maturity'], bins=bins, labels=labels, include_lowest=True, right=True).astype('Int64') \n",
    "\n",
    "    data_train = data_train.dropna(subset=['maturity'])\n",
    "    data_val = data_val.dropna(subset=['maturity'])\n",
    "    data_test = data_test.dropna(subset=['maturity'])"
   ]
  },
  {
   "cell_type": "code",
   "execution_count": 518,
   "metadata": {},
   "outputs": [
    {
     "name": "stdout",
     "output_type": "stream",
     "text": [
      "<IntegerArray>\n",
      "[2, 1, 3, 4, 5]\n",
      "Length: 5, dtype: Int64\n"
     ]
    }
   ],
   "source": [
    "print(data_train['maturity'].unique())"
   ]
  },
  {
   "cell_type": "code",
   "execution_count": 519,
   "metadata": {},
   "outputs": [],
   "source": [
    "data_train = bin_avg(data_train, moneyness_grid, train=smooth)\n",
    "data_val = bin_avg(data_val, moneyness_grid, train=False)\n",
    "data_test = bin_avg(data_test, moneyness_grid, train=False)\n",
    "\n",
    "# make a function write to a data folder, if it exists, then it just reads it, \n",
    "# if not, compute and write it out\n",
    "# following paramters: long/short put/call smooth/no smooth, also which file this is\n",
    "# data/interpolated \n"
   ]
  },
  {
   "cell_type": "code",
   "execution_count": 522,
   "metadata": {},
   "outputs": [],
   "source": [
    "file_path = 'data/final/binned/data_train_{run}_{option_type}_{smooth}.csv' \n",
    "folder_path = 'data/final/binned'\n",
    "\n",
    "if os.path.isfile(file_path):\n",
    "    df = pd.read_csv(file_path)\n",
    "else:\n",
    "    if not os.path.exists(folder_path):\n",
    "        os.makedirs(folder_path)\n",
    "    data_train.to_csv(f\"data/final/binned/data_train_{run}_{option_type}_{smooth}.csv\")\n",
    "    data_val.to_csv(f\"data/final/binned/data_val_{run}_{option_type}.csv\")\n",
    "    data_test.to_csv(f\"data/final/binned/data_test_{run}_{option_type}.csv\")"
   ]
  },
  {
   "cell_type": "code",
   "execution_count": 523,
   "metadata": {},
   "outputs": [],
   "source": [
    "# for i in data_train['maturity'].unique():\n",
    "#     print(data_train[data_train['maturity']].shape)"
   ]
  },
  {
   "cell_type": "code",
   "execution_count": 524,
   "metadata": {},
   "outputs": [],
   "source": [
    "data_train['date'] = pd.to_datetime(data_train['date'])\n",
    "data_val['date'] = pd.to_datetime(data_val['date'])\n",
    "data_test['date'] = pd.to_datetime(data_test['date'])\n",
    "data_train = pd.merge(data_train, covar_df, on='date', how='left')\n",
    "data_val = pd.merge(data_val, covar_df, on='date', how='left')\n",
    "data_test = pd.merge(data_test, covar_df, on='date', how='left')"
   ]
  },
  {
   "cell_type": "code",
   "execution_count": 525,
   "metadata": {},
   "outputs": [],
   "source": [
    "data_train = data_train.dropna()\n",
    "data_val = data_val.dropna()\n",
    "data_test = data_test.dropna()"
   ]
  },
  {
   "cell_type": "code",
   "execution_count": 526,
   "metadata": {},
   "outputs": [],
   "source": [
    "def frame_to_numpy(data, covariate_cols=None, eval=False):\n",
    "    \n",
    "    data['time_step'] = data['date']\n",
    "    time_step_index = pd.to_datetime(data['time_step']).dt.strftime('%Y-%m-%d').unique()\n",
    "    date_to_index = {date: idx for idx, date in enumerate(time_step_index)}\n",
    "\n",
    "    data['time_step_str'] = data['time_step'].dt.strftime('%Y-%m-%d')\n",
    "    data['time_step_idx'] = data['time_step_str'].map(date_to_index)\n",
    "    #data['time_step_idx'] = data['time_step'].apply(lambda x: np.where(time_step_index == x.strftime('%Y-%m-%d'))[0][0])\n",
    "\n",
    "    maturity_values = np.sort(data['maturity'].unique())\n",
    "    maturity_to_idx = {mat: i for i, mat in enumerate(maturity_values)}\n",
    "\n",
    "    time_steps = len(time_step_index)\n",
    "    money_dim = len(data['moneyness'].unique())\n",
    "    ttm_dim = len(maturity_values)\n",
    "\n",
    "    # Base IV tensor\n",
    "    IV_array = np.zeros((time_steps, money_dim, ttm_dim, 1))\n",
    "    cov_array = np.zeros((time_steps, len(covariate_cols)))\n",
    "\n",
    "    for idx, row in data.iterrows():\n",
    "        time_step_idx = row['time_step_idx']\n",
    "        height = int(row['moneyness']) - 1 \n",
    "        width = maturity_to_idx[row['maturity']]\n",
    "        value = row['impl_volatility'] if not eval else row['impl_volatility']\n",
    "        IV_array[time_step_idx, height, width, 0] = value\n",
    "\n",
    "        for i, cov in enumerate(covariate_cols):\n",
    "            cov_array[time_step_idx,i] = row[cov]\n",
    "\n",
    "    return IV_array, cov_array\n"
   ]
  },
  {
   "cell_type": "code",
   "execution_count": 527,
   "metadata": {},
   "outputs": [],
   "source": [
    "IV_train, cov_train = frame_to_numpy(data_train, covariate_columns)\n",
    "IV_val, cov_val = frame_to_numpy(data_val, covariate_columns, eval=True)\n",
    "IV_test, cov_test = frame_to_numpy(data_test, covariate_columns, eval=True)"
   ]
  },
  {
   "cell_type": "code",
   "execution_count": 528,
   "metadata": {},
   "outputs": [],
   "source": [
    "def create_rolling_window_dataset(iv_array, cov_array, window_size, h): # hstep ahead here\n",
    "\n",
    "    T = iv_array.shape[0]\n",
    "    N = T - window_size - (h - 1)\n",
    "\n",
    "    x_iv = np.zeros((N, window_size, *iv_array.shape[1:]))        # (N, window_size, H, W, 1)\n",
    "    x_cov = np.zeros((N, window_size, cov_array.shape[1]))        # (N, window_size, C)\n",
    "    y = np.zeros((N, *iv_array.shape[1:]))                   # (N, H, W, 1)\n",
    "\n",
    "    for i in range(N):\n",
    "        x_iv[i] = iv_array[i:i+window_size]\n",
    "        x_cov[i] = cov_array[i:i+window_size]\n",
    "        y[i] = iv_array[i+window_size + (h - 1)]\n",
    "\n",
    "    return x_iv, x_cov, y\n",
    "x_iv_train, x_cov_train, target_train = create_rolling_window_dataset(IV_train, cov_train, window_size, h_step)\n",
    "\n",
    "IV_val_input = np.concatenate((IV_train[-window_size:], IV_val), axis=0)\n",
    "cov_val_input = np.concatenate((cov_train[-window_size:], cov_val), axis=0)\n",
    "x_iv_val, x_cov_val, target_val = create_rolling_window_dataset(IV_val_input, cov_val_input, window_size, h_step)\n",
    "\n",
    "IV_test_input = np.concatenate((IV_val[-window_size:], IV_test), axis=0)\n",
    "cov_test_input = np.concatenate((cov_val[-window_size:], cov_test))\n",
    "x_iv_test, x_cov_test, target_test = create_rolling_window_dataset(IV_test_input, cov_test_input, window_size, h_step)\n"
   ]
  },
  {
   "cell_type": "code",
   "execution_count": 529,
   "metadata": {},
   "outputs": [
    {
     "name": "stdout",
     "output_type": "stream",
     "text": [
      "(2372, 21, 9, 5, 1) (2372, 21, 8) (2372, 9, 5, 1) (2393, 9, 5, 1)\n",
      "(217, 21, 9, 5, 1) (217, 21, 8) (217, 9, 5, 1) (217, 9, 5, 1) (238, 9, 5, 1)\n"
     ]
    }
   ],
   "source": [
    "print(x_iv_train.shape, x_cov_train.shape, target_train.shape, IV_train.shape)\n",
    "print(x_iv_val.shape, x_cov_val.shape, target_val.shape, IV_val.shape, IV_val_input.shape)"
   ]
  },
  {
   "cell_type": "code",
   "execution_count": 530,
   "metadata": {},
   "outputs": [],
   "source": [
    "time_steps = window_size\n",
    "height = len(data_train['moneyness'].unique())\n",
    "width = len(data_train['maturity'].unique())\n",
    "num_covariates = len(covariate_columns)\n",
    "SEED = 7582967\n",
    "os.environ['PYTHONHASHSEED'] = str(SEED)\n",
    "random.seed(SEED)\n",
    "np.random.seed(SEED)\n",
    "tf.random.set_seed(SEED)\n",
    "keras.utils.set_random_seed(SEED)\n",
    "\n",
    "# If using TensorFlow, this will make GPU ops as deterministic as possible,\n",
    "# but it will affect the overall performance, so be mindful of that.\n",
    "tf.config.experimental.enable_op_determinism()\n",
    "os.environ['TF_DETERMINISTIC_OPS'] = '1'"
   ]
  },
  {
   "cell_type": "code",
   "execution_count": 531,
   "metadata": {},
   "outputs": [],
   "source": [
    "# 1. IV input (spatio-temporal)\n",
    "iv_input = Input(shape=(time_steps, height, width, 1), name=\"iv_input\")\n",
    "x_iv = Masking(mask_value=0.0)(iv_input)\n",
    "x_iv = ConvLSTM2D(filters=64, kernel_size=(3, 3), padding='same', return_sequences=True)(iv_input)\n",
    "x_iv = BatchNormalization()(x_iv)\n",
    "x_iv = ConvLSTM2D(filters=64, kernel_size=(3, 3), padding='same', return_sequences=False)(x_iv)\n",
    "x_iv = BatchNormalization()(x_iv)"
   ]
  },
  {
   "cell_type": "code",
   "execution_count": 532,
   "metadata": {},
   "outputs": [],
   "source": [
    "# 2. Covariate input (temporal only)\n",
    "cov_input = Input(shape=(time_steps, num_covariates), name=\"cov_input\")\n",
    "\n",
    "x_cov = LSTM(units=64, return_sequences=False)(cov_input)   # (batch_size, 64)\n",
    "x_cov = Dense(units=height * width, activation='relu')(x_cov)  \n",
    "x_cov = Reshape((height, width, 1))(x_cov)               # (batch_size, H, W, 1)\n"
   ]
  },
  {
   "cell_type": "code",
   "execution_count": 533,
   "metadata": {},
   "outputs": [],
   "source": [
    "x = Concatenate(axis=-1)([x_iv, x_cov])  # Combine along channel axis -> (H, W, 65)\n",
    "x = tf.keras.layers.Conv2D(filters=1, kernel_size=(1, 1), activation='sigmoid', padding='same')(x)"
   ]
  },
  {
   "cell_type": "code",
   "execution_count": 534,
   "metadata": {},
   "outputs": [],
   "source": [
    "def masked_mse(y_true, y_pred):\n",
    "    # obtain true and false objects using tf.not_equal. If it is true, then cast them to 1s, otherwise it is 0\n",
    "    mask = tf.cast(tf.not_equal(y_true, 0.0), tf.float32)\n",
    "    # print(mask)\n",
    "\n",
    "    #Multiply square differences with the mask, so only the 1s are taken into account\n",
    "    squared_diff = tf.square(y_true - y_pred) * mask\n",
    "\n",
    "    # sum the amount of 1s\n",
    "    safe_mask_sum = tf.reduce_sum(mask)\n",
    "\n",
    "    # sum the amount of square diffences, and divide by total amount \n",
    "    return tf.reduce_sum(squared_diff) / safe_mask_sum"
   ]
  },
  {
   "cell_type": "code",
   "execution_count": 535,
   "metadata": {},
   "outputs": [
    {
     "name": "stdout",
     "output_type": "stream",
     "text": [
      "Model: \"model_15\"\n",
      "__________________________________________________________________________________________________\n",
      " Layer (type)                   Output Shape         Param #     Connected to                     \n",
      "==================================================================================================\n",
      " iv_input (InputLayer)          [(None, 21, 9, 5, 1  0           []                               \n",
      "                                )]                                                                \n",
      "                                                                                                  \n",
      " conv_lstm2d_24 (ConvLSTM2D)    (None, 21, 9, 5, 64  150016      ['iv_input[0][0]']               \n",
      "                                )                                                                 \n",
      "                                                                                                  \n",
      " cov_input (InputLayer)         [(None, 21, 8)]      0           []                               \n",
      "                                                                                                  \n",
      " batch_normalization_24 (BatchN  (None, 21, 9, 5, 64  256        ['conv_lstm2d_24[0][0]']         \n",
      " ormalization)                  )                                                                 \n",
      "                                                                                                  \n",
      " lstm_12 (LSTM)                 (None, 64)           18688       ['cov_input[0][0]']              \n",
      "                                                                                                  \n",
      " conv_lstm2d_25 (ConvLSTM2D)    (None, 9, 5, 64)     295168      ['batch_normalization_24[0][0]'] \n",
      "                                                                                                  \n",
      " dense_12 (Dense)               (None, 45)           2925        ['lstm_12[0][0]']                \n",
      "                                                                                                  \n",
      " batch_normalization_25 (BatchN  (None, 9, 5, 64)    256         ['conv_lstm2d_25[0][0]']         \n",
      " ormalization)                                                                                    \n",
      "                                                                                                  \n",
      " reshape_12 (Reshape)           (None, 9, 5, 1)      0           ['dense_12[0][0]']               \n",
      "                                                                                                  \n",
      " concatenate_12 (Concatenate)   (None, 9, 5, 65)     0           ['batch_normalization_25[0][0]', \n",
      "                                                                  'reshape_12[0][0]']             \n",
      "                                                                                                  \n",
      " conv2d_12 (Conv2D)             (None, 9, 5, 1)      66          ['concatenate_12[0][0]']         \n",
      "                                                                                                  \n",
      "==================================================================================================\n",
      "Total params: 467,375\n",
      "Trainable params: 467,119\n",
      "Non-trainable params: 256\n",
      "__________________________________________________________________________________________________\n"
     ]
    }
   ],
   "source": [
    "model = Model(inputs=[iv_input, cov_input], outputs=x)\n",
    "\n",
    "optimizer = tf.keras.optimizers.Adam(learning_rate=learning_rate, epsilon=epsilon)\n",
    "model.compile(loss=masked_mse, optimizer=optimizer)\n",
    "model.summary()"
   ]
  },
  {
   "cell_type": "code",
   "execution_count": 537,
   "metadata": {},
   "outputs": [
    {
     "name": "stdout",
     "output_type": "stream",
     "text": [
      "Epoch 1/100\n"
     ]
    },
    {
     "name": "stdout",
     "output_type": "stream",
     "text": [
      "75/75 [==============================] - 13s 134ms/step - loss: 0.0409 - val_loss: 0.0445\n",
      "Epoch 2/100\n",
      "75/75 [==============================] - 10s 129ms/step - loss: 0.0044 - val_loss: 0.0181\n",
      "Epoch 3/100\n",
      "75/75 [==============================] - 10s 128ms/step - loss: 0.0034 - val_loss: 0.0053\n",
      "Epoch 4/100\n",
      "75/75 [==============================] - 10s 128ms/step - loss: 0.0032 - val_loss: 0.0058\n",
      "Epoch 5/100\n",
      "75/75 [==============================] - 10s 129ms/step - loss: 0.0031 - val_loss: 0.0049\n",
      "Epoch 6/100\n",
      "75/75 [==============================] - 10s 129ms/step - loss: 0.0029 - val_loss: 0.0040\n",
      "Epoch 7/100\n",
      "75/75 [==============================] - 10s 129ms/step - loss: 0.0023 - val_loss: 0.0027\n",
      "Epoch 8/100\n",
      "75/75 [==============================] - 10s 128ms/step - loss: 0.0020 - val_loss: 0.0015\n",
      "Epoch 9/100\n",
      "75/75 [==============================] - 10s 129ms/step - loss: 0.0017 - val_loss: 0.0012\n",
      "Epoch 10/100\n",
      "75/75 [==============================] - 11s 148ms/step - loss: 0.0016 - val_loss: 0.0011\n",
      "Epoch 11/100\n",
      "75/75 [==============================] - 13s 174ms/step - loss: 0.0015 - val_loss: 0.0012\n",
      "Epoch 12/100\n",
      "75/75 [==============================] - 10s 130ms/step - loss: 0.0015 - val_loss: 0.0012\n",
      "Epoch 13/100\n",
      "75/75 [==============================] - 10s 128ms/step - loss: 0.0015 - val_loss: 0.0012\n",
      "Epoch 14/100\n",
      "75/75 [==============================] - 10s 127ms/step - loss: 0.0015 - val_loss: 0.0012\n",
      "Epoch 15/100\n",
      "75/75 [==============================] - 10s 130ms/step - loss: 0.0014 - val_loss: 0.0012\n",
      "Epoch 16/100\n",
      "75/75 [==============================] - 10s 129ms/step - loss: 0.0014 - val_loss: 0.0011\n",
      "Epoch 17/100\n",
      "75/75 [==============================] - 11s 146ms/step - loss: 0.0014 - val_loss: 0.0011\n",
      "Epoch 18/100\n",
      "75/75 [==============================] - 11s 142ms/step - loss: 0.0014 - val_loss: 0.0011\n",
      "Epoch 19/100\n",
      "75/75 [==============================] - 10s 130ms/step - loss: 0.0013 - val_loss: 0.0011\n",
      "Epoch 20/100\n",
      "75/75 [==============================] - 10s 129ms/step - loss: 0.0014 - val_loss: 0.0011\n",
      "Epoch 21/100\n",
      "75/75 [==============================] - 10s 129ms/step - loss: 0.0014 - val_loss: 0.0011\n",
      "Epoch 22/100\n",
      "75/75 [==============================] - 10s 128ms/step - loss: 0.0013 - val_loss: 0.0011\n",
      "Epoch 23/100\n",
      "75/75 [==============================] - 11s 149ms/step - loss: 0.0013 - val_loss: 0.0011\n",
      "Epoch 24/100\n",
      "75/75 [==============================] - 13s 167ms/step - loss: 0.0013 - val_loss: 0.0011\n",
      "Epoch 25/100\n",
      "75/75 [==============================] - 10s 130ms/step - loss: 0.0013 - val_loss: 0.0010\n",
      "Epoch 26/100\n",
      "75/75 [==============================] - 10s 131ms/step - loss: 0.0014 - val_loss: 0.0010\n",
      "Epoch 27/100\n",
      "75/75 [==============================] - 10s 131ms/step - loss: 0.0013 - val_loss: 9.9931e-04\n",
      "Epoch 28/100\n",
      "75/75 [==============================] - 14s 180ms/step - loss: 0.0014 - val_loss: 0.0011\n",
      "Epoch 29/100\n",
      "75/75 [==============================] - 13s 170ms/step - loss: 0.0013 - val_loss: 0.0010\n",
      "Epoch 30/100\n",
      "75/75 [==============================] - 11s 151ms/step - loss: 0.0013 - val_loss: 0.0010\n",
      "Epoch 31/100\n",
      "75/75 [==============================] - 12s 154ms/step - loss: 0.0013 - val_loss: 0.0010\n",
      "Epoch 32/100\n",
      "75/75 [==============================] - 10s 133ms/step - loss: 0.0013 - val_loss: 0.0011\n",
      "Epoch 33/100\n",
      "75/75 [==============================] - 10s 131ms/step - loss: 0.0013 - val_loss: 0.0010\n",
      "Epoch 34/100\n",
      "75/75 [==============================] - 13s 177ms/step - loss: 0.0014 - val_loss: 0.0011\n",
      "Epoch 35/100\n",
      "75/75 [==============================] - 11s 148ms/step - loss: 0.0014 - val_loss: 0.0010\n",
      "Epoch 36/100\n",
      "75/75 [==============================] - 10s 133ms/step - loss: 0.0013 - val_loss: 0.0011\n",
      "Epoch 37/100\n",
      "75/75 [==============================] - 13s 177ms/step - loss: 0.0013 - val_loss: 0.0010\n",
      "Epoch 38/100\n",
      "75/75 [==============================] - 10s 129ms/step - loss: 0.0013 - val_loss: 0.0011\n",
      "Epoch 39/100\n",
      "75/75 [==============================] - 12s 156ms/step - loss: 0.0014 - val_loss: 0.0011\n",
      "Epoch 40/100\n",
      "75/75 [==============================] - 14s 182ms/step - loss: 0.0013 - val_loss: 0.0011\n",
      "Epoch 41/100\n",
      "75/75 [==============================] - 14s 187ms/step - loss: 0.0013 - val_loss: 0.0011\n",
      "Epoch 42/100\n",
      "75/75 [==============================] - 14s 181ms/step - loss: 0.0013 - val_loss: 0.0010\n"
     ]
    }
   ],
   "source": [
    "start_time = time.time()\n",
    "\n",
    "history = model.fit([x_iv_train, x_cov_train], target_train,\n",
    "          validation_data=([x_iv_val, x_cov_val], target_val),\n",
    "          epochs=epochs, batch_size=batch_size, shuffle=False,\n",
    "        callbacks=[tf.keras.callbacks.EarlyStopping(monitor='val_loss',\n",
    "                                                    patience=patience,\n",
    "                                                    mode='min')])\n",
    "\n",
    "end_time = time.time()"
   ]
  },
  {
   "cell_type": "code",
   "execution_count": 538,
   "metadata": {},
   "outputs": [
    {
     "name": "stdout",
     "output_type": "stream",
     "text": [
      "Time taken to fit the model: 454.46 seconds\n",
      "Best Epoch: 27, Validation Loss: 0.000999\n"
     ]
    }
   ],
   "source": [
    "elapsed_time = end_time - start_time\n",
    "print(f\"Time taken to fit the model: {elapsed_time:.2f} seconds\")\n",
    "best_epoch = int(np.argmin(history.history['val_loss']))\n",
    "best_val_loss = history.history['val_loss'][best_epoch]\n",
    "print(f\"Best Epoch: {best_epoch + 1}, Validation Loss: {best_val_loss:.6f}\")\n",
    "train_loss = history.history['loss']\n",
    "val_loss = history.history.get('val_loss')"
   ]
  },
  {
   "cell_type": "code",
   "execution_count": 539,
   "metadata": {},
   "outputs": [
    {
     "data": {
      "image/png": "[encoded data removed]",
      "text/plain": [
       "<Figure size 640x480 with 1 Axes>"
      ]
     },
     "metadata": {},
     "output_type": "display_data"
    }
   ],
   "source": [
    "plt.plot(train_loss, label='Training Loss')\n",
    "if val_loss:\n",
    "    plt.plot(val_loss, label='Validation Loss')\n",
    "plt.xlabel('Epoch')\n",
    "plt.ylabel('Loss')\n",
    "plt.title('Loss per Epoch')\n",
    "plt.legend()\n",
    "plt.grid(True)\n",
    "plt.show()"
   ]
  },
  {
   "cell_type": "code",
   "execution_count": 540,
   "metadata": {},
   "outputs": [
    {
     "name": "stdout",
     "output_type": "stream",
     "text": [
      "7/7 [==============================] - 1s 27ms/step\n",
      "8/8 [==============================] - 0s 29ms/step\n"
     ]
    }
   ],
   "source": [
    "# Next step; functions for the IVRMSE and R_oos!!!!!\n",
    "# H-step ahead performance!!!!!!\n",
    "# WRITE IT ALL TO RESULTS!!!!!!\n",
    "# Lower learning rate, beneficial, or leave it? Probably leave it\n",
    "# All the HYPERPARAMETERS!!!!!! kernel strides, window sizes, parameters, layers, ALL OF THEM\n",
    "# COVARIATES!!!!!!, Do all the hyperparameters again, and then only save the TEST PERFORMANCE\n",
    "# MODEL ARCHITECTURE!!!!\n",
    "# Investigate what happens, if you leave it as 0... We cannot do the interpolation properly, to be frank.\n",
    "\n",
    "#THEN LONG TERM !!!!!!\n",
    "# Transformer models!!!!!!!!!!!!!!!!\n",
    "pred_val = model.predict([x_iv_val, x_cov_val])\n",
    "pred_test = model.predict([x_iv_test, x_cov_test])"
   ]
  },
  {
   "cell_type": "code",
   "execution_count": 541,
   "metadata": {},
   "outputs": [],
   "source": [
    "# Put it in the compile, but also call it afterward\n",
    "# double check formula and also make it for R_oos\n",
    "# Should also work per h-step ahead \n",
    "def calculate_ivrmse(y_true, y_pred, all_points=False):\n",
    "\n",
    "    if not all_points:\n",
    "        ivrmse = tf.sqrt(tf.reduce_mean(tf.square(y_true - y_pred)))\n",
    "    else:\n",
    "        sq_error = tf.square(y_true - y_pred)\n",
    "        error_surface = tf.reduce_mean(sq_error, axis=[1 , 2])\n",
    "        ivrmse = tf.sqrt(error_surface)\n",
    "\n",
    "    return ivrmse.numpy()"
   ]
  },
  {
   "cell_type": "code",
   "execution_count": 542,
   "metadata": {},
   "outputs": [],
   "source": [
    "def calculate_ivrmse_mask(y_true, y_pred, all_points=False):\n",
    "    mask = tf.cast(tf.not_equal(y_true, 0.0), tf.double)\n",
    "    squared_diff = tf.square(y_true - y_pred) * mask\n",
    "    \n",
    "    if not all_points:\n",
    "        mean = tf.reduce_sum(squared_diff) / tf.reduce_sum(mask)\n",
    "        ivrmse = tf.sqrt(mean)\n",
    "    else:\n",
    "        mean = tf.reduce_sum(squared_diff, axis=[1,2]) / tf.reduce_sum(mask, axis=[1,2])\n",
    "        ivrmse = tf.sqrt(mean)\n",
    "\n",
    "    return ivrmse.numpy()\n",
    "\n",
    "# model.compile(optimizer='adam', loss='mse', metrics=[ivrmse_metric])\n"
   ]
  },
  {
   "cell_type": "code",
   "execution_count": 543,
   "metadata": {},
   "outputs": [],
   "source": [
    "def calculate_r_oos_mask(y_true, y_pred, all_points=False):\n",
    "\n",
    "    mask = tf.cast(y_true > 0, tf.double)\n",
    "\n",
    "    if not all_points:\n",
    "        ss_res = tf.reduce_sum(tf.square(y_true - y_pred) * mask)\n",
    "\n",
    "        mean_IV = tf.reduce_sum(y_true * mask, axis = [1, 2], keepdims=True) / tf.reduce_sum(mask, axis=[1, 2], keepdims=True)\n",
    "        ss_tot = tf.reduce_sum(tf.square(y_true - mean_IV) * mask)\n",
    "        r2 = 1 - ss_res/ss_tot\n",
    "    else:\n",
    "        ss_res = tf.reduce_sum(tf.square(y_true - y_pred)* mask, axis=[1, 2])\n",
    "        mean_IV = tf.reduce_sum(y_true * mask, axis = [1, 2], keepdims=True) / tf.reduce_sum(mask, axis=[1, 2], keepdims=True)\n",
    "        ss_tot = tf.reduce_sum(tf.square(y_true - mean_IV) * mask, axis=[1, 2])\n",
    "        r2 = 1 - ss_res/ss_tot\n",
    "    return r2.numpy()\n",
    "\n"
   ]
  },
  {
   "cell_type": "code",
   "execution_count": 544,
   "metadata": {},
   "outputs": [],
   "source": [
    "def calculate_r_oos(y_true, y_pred, all_points=False):\n",
    "\n",
    "    if not all_points:\n",
    "        ss_res = tf.reduce_sum(tf.square(y_true - y_pred))\n",
    "        mean_IV = tf.reduce_mean(y_true, axis=[1, 2], keepdims=True) # should be shape of 114 long\n",
    "        ss_tot = tf.reduce_sum(tf.square(y_true - mean_IV))\n",
    "        \n",
    "        r2 = 1 - ss_res/ss_tot\n",
    "    else:\n",
    "        ss_res = tf.reduce_sum(tf.square(y_true - y_pred), axis=[1, 2])\n",
    "        mean_IV = tf.reduce_mean(y_true, axis=[1, 2], keepdims=True)\n",
    "        ss_tot = tf.reduce_sum(tf.square(y_true - mean_IV), axis=[1, 2])\n",
    "        r2 = 1 - ss_res/ss_tot\n",
    "    return r2.numpy()"
   ]
  },
  {
   "cell_type": "code",
   "execution_count": 545,
   "metadata": {},
   "outputs": [
    {
     "name": "stdout",
     "output_type": "stream",
     "text": [
      "0.5470898799143672\n",
      "0.03234056112320752\n",
      "-36.97720463018481\n",
      "0.8464392633161898\n"
     ]
    }
   ],
   "source": [
    "print(calculate_ivrmse(IV_val[h_step-1:], pred_val))\n",
    "print(calculate_ivrmse_mask(IV_val[h_step-1:], pred_val))\n",
    "# The loss is less, than in the optimization.. probably a different metric, or formula than mse\n",
    "# check values of the papers that are like yours\n",
    "print(calculate_r_oos(IV_val[h_step-1:], pred_val))\n",
    "print(calculate_r_oos_mask(IV_val[h_step-1:], pred_val))"
   ]
  },
  {
   "cell_type": "code",
   "execution_count": 546,
   "metadata": {},
   "outputs": [
    {
     "name": "stdout",
     "output_type": "stream",
     "text": [
      "0.541313546953784\n",
      "0.03982437763185066\n",
      "-20.024192402623797\n",
      "0.7145047039535157\n"
     ]
    }
   ],
   "source": [
    "print(calculate_ivrmse(IV_test[h_step-1:], pred_test))\n",
    "print(calculate_ivrmse_mask(IV_test[h_step-1:], pred_test))\n",
    "print(calculate_r_oos(IV_test[h_step-1:], pred_test))\n",
    "print(calculate_r_oos_mask(IV_test[h_step-1:], pred_test))"
   ]
  },
  {
   "cell_type": "code",
   "execution_count": 547,
   "metadata": {},
   "outputs": [],
   "source": [
    "def get_results(y_real, y_pred):\n",
    "    ivrmse = calculate_ivrmse_mask(y_real, y_pred)\n",
    "    ivrmse_h = calculate_ivrmse_mask(y_real, y_pred, all_points=True)\n",
    "    r_oos = calculate_r_oos_mask(y_real, y_pred)\n",
    "    r_oos_h = calculate_r_oos_mask(y_real, y_pred, all_points=True)\n",
    "\n",
    "    return ivrmse, ivrmse_h, r_oos, r_oos_h"
   ]
  },
  {
   "cell_type": "code",
   "execution_count": 548,
   "metadata": {},
   "outputs": [],
   "source": [
    "def write_results(folder_path, ivrmse, r_oos, ivrmse_h, r_oos_h, surface, surface_pred, covariate_columns, option_type):\n",
    "\n",
    "    ivrmse_path = folder_path / Path(\"ivrmse\")\n",
    "    r_oos_path = folder_path / Path(\"r_oos\")\n",
    "    ivrmse_h_path = folder_path / Path(\"ivrmse_h\")\n",
    "    r_oos_h_path = folder_path / Path(\"r_oos_h\")\n",
    "    surface_path = folder_path / Path(\"surface\")\n",
    "    surface_pred_path = folder_path / Path(\"surface_pred\")\n",
    "\n",
    "    if not ivrmse_path.exists():\n",
    "        ivrmse_path.mkdir(parents=True, exist_ok=True)\n",
    "\n",
    "    if not r_oos_path.exists():\n",
    "        r_oos_path.mkdir(parents=True, exist_ok=True)\n",
    "\n",
    "    if not ivrmse_h_path.exists():\n",
    "        ivrmse_h_path.mkdir(parents=True, exist_ok=True)\n",
    "\n",
    "    if not r_oos_h_path.exists():\n",
    "        r_oos_h_path.mkdir(parents=True, exist_ok=True)\n",
    "\n",
    "    if not surface_path.exists():\n",
    "        surface_path.mkdir(parents=True, exist_ok=True)\n",
    "\n",
    "    if not surface_pred_path.exists():\n",
    "        surface_pred_path.mkdir(parents=True, exist_ok=True)\n",
    "\n",
    "    cov = \"\"\n",
    "    for i in covariate_columns:\n",
    "        cov = cov+ \"_\" +i\n",
    "    np.save(ivrmse_path / f\"{option_type}_smooth_{smooth}_ws_{window_size}_h_{h_step}{cov}.npy\", ivrmse)\n",
    "    np.save(r_oos_path / f\"{option_type}_smooth_{smooth}_ws_{window_size}_h_{h_step}{cov}.npy\", r_oos)\n",
    "    np.save(ivrmse_h_path / f\"{option_type}_smooth_{smooth}_ws_{window_size}_h_{h_step}{cov}.npy\", ivrmse_h)\n",
    "    np.save(r_oos_h_path / f\"{option_type}_smooth_{smooth}_ws_{window_size}_h_{h_step}{cov}.npy\", r_oos_h)\n",
    "    np.save(surface_path/ f\"{option_type}_smooth_{smooth}_ws_{window_size}_h_{h_step}{cov}.npy\", surface)\n",
    "    np.save(surface_pred_path / f\"{option_type}_smooth_{smooth}_ws_{window_size}_h_{h_step}{cov}.npy\", surface_pred)"
   ]
  },
  {
   "cell_type": "code",
   "execution_count": null,
   "metadata": {},
   "outputs": [],
   "source": [
    "folder_path = Path(f\"results/test_{run}\")\n",
    "ivrmse, ivrmse_h, r_oos, r_oos_h = get_results(IV_test[h_step-1:], pred_test)\n",
    "write_results(folder_path, ivrmse, r_oos, ivrmse_h, r_oos_h, IV_test[h_step-1:], pred_test, covariate_columns, option_type)"
   ]
  },
  {
   "cell_type": "code",
   "execution_count": null,
   "metadata": {},
   "outputs": [],
   "source": [
    "folder_path = Path(f\"results/validation_{run}\")\n",
    "ivrmse, ivrmse_h, r_oos, r_oos_h = get_results(IV_val[h_step-1:], pred_val)\n",
    "write_results(folder_path, ivrmse, r_oos, ivrmse_h, r_oos_h, IV_val[h_step-1:], pred_test, covariate_columns, option_type)"
   ]
  },
  {
   "cell_type": "code",
   "execution_count": 551,
   "metadata": {},
   "outputs": [],
   "source": [
    "# For the h-step ahead forecast, an autoregressive approach is used\n",
    "# Predict the one step ahead forecast (done now)\n",
    "# After, use this one step ahead forecast in the predict command. "
   ]
  },
  {
   "cell_type": "code",
   "execution_count": 552,
   "metadata": {},
   "outputs": [
    {
     "name": "stdout",
     "output_type": "stream",
     "text": [
      "(251, 9, 5, 1)\n"
     ]
    }
   ],
   "source": [
    "print(pred_test.shape)"
   ]
  },
  {
   "cell_type": "code",
   "execution_count": 553,
   "metadata": {},
   "outputs": [
    {
     "name": "stdout",
     "output_type": "stream",
     "text": [
      "(251, 9, 5, 1)\n"
     ]
    }
   ],
   "source": [
    "print(pred_test.shape)"
   ]
  }
 ],
 "metadata": {
  "kernelspec": {
   "display_name": "tf_cpu",
   "language": "python",
   "name": "python3"
  },
  "language_info": {
   "codemirror_mode": {
    "name": "ipython",
    "version": 3
   },
   "file_extension": ".py",
   "mimetype": "text/x-python",
   "name": "python",
   "nbconvert_exporter": "python",
   "pygments_lexer": "ipython3",
   "version": "3.10.16"
  }
 },
 "nbformat": 4,
 "nbformat_minor": 2
}
