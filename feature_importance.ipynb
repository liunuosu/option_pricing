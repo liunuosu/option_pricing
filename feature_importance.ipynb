{
 "cells": [
  {
   "cell_type": "code",
   "execution_count": 101,
   "id": "d49d21a8",
   "metadata": {},
   "outputs": [],
   "source": [
    "import numpy as np\n",
    "import pandas as pd\n",
    "import tensorflow as tf\n",
    "import matplotlib.pyplot as plt\n",
    "import os"
   ]
  },
  {
   "cell_type": "code",
   "execution_count": 102,
   "id": "ca115b35",
   "metadata": {},
   "outputs": [],
   "source": [
    "# We need, for a put and call separately, to determine which features are important\n",
    "# a way to do this is like almeida, by leaving one out, and see how much the IVRMSE increases\n",
    "\n",
    "# First, we need the performance of the best covconvlstm model"
   ]
  },
  {
   "cell_type": "code",
   "execution_count": 103,
   "id": "7dd43985",
   "metadata": {},
   "outputs": [
    {
     "name": "stdout",
     "output_type": "stream",
     "text": [
      "Lowest value: 0.11659019596456228\n",
      "From file: call_smooth_True_ws_21_h_1_VIX_VVIX_SKEW_RVOL_TMS_CRS_EPU_ADS_2_7_4_covconvLSTMNEW.npy\n",
      "4\n"
     ]
    }
   ],
   "source": [
    "folder_path = \"results/validation_short_ttm/ivrmse/\"  # change this to your folder path\n",
    "target_substring = \"_covconvLSTMNEW\"  # the substring to look for\n",
    "step = \"h_1_\"\n",
    "option = 'call'\n",
    "\n",
    "lowest_value = float('inf')\n",
    "lowest_file_short = None\n",
    "i = 0\n",
    "for file_name in os.listdir(folder_path):\n",
    "   \n",
    "    if file_name.endswith('.npy') and target_substring in file_name and step in file_name and option in file_name:\n",
    "        i=i+1\n",
    "        file_path = os.path.join(folder_path, file_name)\n",
    "        try:\n",
    "            value = np.load(file_path)\n",
    "            # If the file contains a single number\n",
    "        \n",
    "            if value < lowest_value:\n",
    "                lowest_value = value\n",
    "                lowest_file_short = file_name\n",
    "                \n",
    "\n",
    "        except Exception as e:\n",
    "            print(f\"Error loading {file_name}: {e}\")\n",
    "\n",
    "print(f\"Lowest value: {lowest_value}\")\n",
    "print(f\"From file: {lowest_file_short}\")\n",
    "print(i)\n"
   ]
  },
  {
   "cell_type": "code",
   "execution_count": 105,
   "id": "78384c97",
   "metadata": {},
   "outputs": [],
   "source": [
    "option, _, _, _, ws, _, h_step, _, _, _, _, _, _, _,  _, num_head, key_dim, _, _= lowest_file_short.split(\"_\")"
   ]
  },
  {
   "cell_type": "code",
   "execution_count": 106,
   "id": "c997612c",
   "metadata": {},
   "outputs": [
    {
     "name": "stdout",
     "output_type": "stream",
     "text": [
      "h = 1 ahead prediction for call option:\n",
      "IVRMSE: 0.125, R_oos: 0.970\n",
      "Best hyperparameters: window size 21, num layers: 2, kernel height: 7\n"
     ]
    }
   ],
   "source": [
    "test_ivrmse = np.load(f\"results/test_short_ttm/ivrmse/{lowest_file_short}\")\n",
    "test_roos = np.load(f\"results/test_short_ttm/r_oos/{lowest_file_short}\")\n",
    "\n",
    "print(f\"h = {h_step} ahead prediction for {option} option:\")\n",
    "print(f\"IVRMSE: {test_ivrmse:.3f}, R_oos: {test_roos:.3f}\")\n",
    "print(f\"Best hyperparameters: window size {ws}, num layers: {num_head}, kernel height: {key_dim}\")\n",
    "best_call = test_ivrmse"
   ]
  },
  {
   "cell_type": "code",
   "execution_count": 108,
   "id": "b1bb80bc",
   "metadata": {},
   "outputs": [
    {
     "name": "stdout",
     "output_type": "stream",
     "text": [
      "Lowest value: 0.10157577252409732\n",
      "From file: put_smooth_True_ws_21_h_1_VIX_VVIX_SKEW_RVOL_TMS_CRS_EPU_ADS_2_7_4_covconvLSTMNEW.npy\n",
      "4\n",
      "h = 1 ahead prediction for put option:\n",
      "IVRMSE: 0.133, R_oos: 0.959\n",
      "Best hyperparameters: window size 21, num layers: 2, kernel height: 7\n"
     ]
    }
   ],
   "source": [
    "folder_path = \"results/validation_short_ttm/ivrmse/\"  # change this to your folder path\n",
    "target_substring = \"_covconvLSTMNEW\"  # the substring to look for\n",
    "step = \"h_1_\"\n",
    "option = 'put'\n",
    "\n",
    "lowest_value = float('inf')\n",
    "lowest_file_short = None\n",
    "i = 0\n",
    "for file_name in os.listdir(folder_path):\n",
    "   \n",
    "    if file_name.endswith('.npy') and target_substring in file_name and step in file_name and option in file_name:\n",
    "        i=i+1\n",
    "        file_path = os.path.join(folder_path, file_name)\n",
    "        try:\n",
    "            value = np.load(file_path)\n",
    "            # If the file contains a single number\n",
    "        \n",
    "            if value < lowest_value:\n",
    "                lowest_value = value\n",
    "                lowest_file_short = file_name\n",
    "                \n",
    "\n",
    "        except Exception as e:\n",
    "            print(f\"Error loading {file_name}: {e}\")\n",
    "\n",
    "print(f\"Lowest value: {lowest_value}\")\n",
    "print(f\"From file: {lowest_file_short}\")\n",
    "print(i)\n",
    "option, _, _, _, ws, _, h_step, _, _, _, _, _, _, _,  _, num_head, key_dim, _, _= lowest_file_short.split(\"_\")\n",
    "\n",
    "test_ivrmse = np.load(f\"results/test_short_ttm/ivrmse/{lowest_file_short}\")\n",
    "test_roos = np.load(f\"results/test_short_ttm/r_oos/{lowest_file_short}\")\n",
    "\n",
    "print(f\"h = {h_step} ahead prediction for {option} option:\")\n",
    "print(f\"IVRMSE: {test_ivrmse:.3f}, R_oos: {test_roos:.3f}\")\n",
    "print(f\"Best hyperparameters: window size {ws}, num layers: {num_head}, kernel height: {key_dim}\")\n",
    "best_put = test_ivrmse"
   ]
  },
  {
   "cell_type": "code",
   "execution_count": 109,
   "id": "3b7da7de",
   "metadata": {},
   "outputs": [
    {
     "name": "stdout",
     "output_type": "stream",
     "text": [
      "0.1246512106475451 0.13314423327850386\n"
     ]
    }
   ],
   "source": [
    "print(best_call, best_put)"
   ]
  },
  {
   "cell_type": "code",
   "execution_count": 110,
   "id": "a5b0c208",
   "metadata": {},
   "outputs": [],
   "source": [
    "# Notice that both hyperparamters are the same for call and put: "
   ]
  },
  {
   "cell_type": "code",
   "execution_count": 111,
   "id": "49e1d6cd",
   "metadata": {},
   "outputs": [],
   "source": [
    "# ws = 21, layers = 2, k_height= 7"
   ]
  },
  {
   "cell_type": "code",
   "execution_count": 112,
   "id": "2036d5cf",
   "metadata": {},
   "outputs": [
    {
     "name": "stdout",
     "output_type": "stream",
     "text": [
      "_VIX_\n",
      "Lowest value: 0.13464545105228193\n",
      "From file: put_smooth_True_ws_5_h_1_VVIX_SKEW_RVOL_TMS_CRS_EPU_ADS_feature_importancev2.npy\n",
      "VVIX\n",
      "Lowest value: 0.12453565999954558\n",
      "From file: put_smooth_True_ws_21_h_1_VIX_SKEW_RVOL_TMS_CRS_EPU_ADS_feature_importancev2.npy\n"
     ]
    },
    {
     "name": "stdout",
     "output_type": "stream",
     "text": [
      "SKEW\n",
      "Lowest value: 0.14386122104326887\n",
      "From file: put_smooth_True_ws_21_h_1_VIX_VVIX_RVOL_TMS_CRS_EPU_ADS_feature_importancev2.npy\n",
      "RVOL\n",
      "Lowest value: 0.13789757716309084\n",
      "From file: put_smooth_True_ws_21_h_1_VIX_VVIX_SKEW_TMS_CRS_EPU_ADS_feature_importancev2.npy\n",
      "TMS\n",
      "Lowest value: 0.12082812664318025\n",
      "From file: put_smooth_True_ws_21_h_1_VIX_VVIX_SKEW_RVOL_CRS_EPU_ADS_feature_importancev2.npy\n",
      "CRS\n",
      "Lowest value: 0.1320108103578375\n",
      "From file: put_smooth_True_ws_21_h_1_VIX_VVIX_SKEW_RVOL_TMS_EPU_ADS_feature_importancev2.npy\n",
      "EPU\n",
      "Lowest value: 0.12493085103104562\n",
      "From file: put_smooth_True_ws_21_h_1_VIX_VVIX_SKEW_RVOL_TMS_CRS_ADS_feature_importancev2.npy\n",
      "ADS\n",
      "Lowest value: 0.1260447305955685\n",
      "From file: put_smooth_True_ws_21_h_1_VIX_VVIX_SKEW_RVOL_TMS_CRS_EPU_feature_importancev2.npy\n",
      "['_VIX_', 'VVIX', 'SKEW', 'RVOL', 'TMS', 'CRS', 'EPU', 'ADS']\n",
      "[0.06796375776706534, 0.05592060080685199, 0.06264799716745514, 0.09581695945729682, 0.02972036506655079, 0.035336699611231176, 0.02915490221265446, 0.027418511248776645]\n"
     ]
    }
   ],
   "source": [
    "# Now, we need to obtain the IVRMSE scores of the runs where one covariate is omitted at one time\n",
    "\n",
    "covs = ['_VIX_', 'VVIX', 'SKEW', 'RVOL','TMS', 'CRS', 'EPU', 'ADS']\n",
    "feature_importance_put = []\n",
    "\n",
    "for j in covs:\n",
    "    print(j)\n",
    "\n",
    "    folder_path = \"results/validation_short_ttm/ivrmse/\"  # change this to your folder path\n",
    "    target_substring = \"feature_importancev2\"  # the substring to look for\n",
    "    step = \"h_1\"\n",
    "    option = 'put'\n",
    "\n",
    "    lowest_value = float('inf')\n",
    "    lowest_file_short = None\n",
    "    i = 0\n",
    "    for file_name in os.listdir(folder_path):\n",
    "        \n",
    "        if file_name.endswith('.npy') and \\\n",
    "            (target_substring in file_name and step in file_name and option in file_name) \\\n",
    "                and (j not in file_name) and (len(file_name.split(\"_\"))>11):\n",
    "            i=i+1\n",
    "            file_path = os.path.join(folder_path, file_name)\n",
    "            try:\n",
    "                value = np.load(file_path)\n",
    "                # If the file contains a single number\n",
    "            \n",
    "                if value < lowest_value:\n",
    "                    lowest_value = value\n",
    "                    lowest_file_short = file_name\n",
    "                    \n",
    "\n",
    "            except Exception as e:\n",
    "                print(f\"Error loading {file_name}: {e}\")\n",
    "\n",
    "    print(f\"Lowest value: {lowest_value}\")\n",
    "    print(f\"From file: {lowest_file_short}\")\n",
    "    # print(i)\n",
    "    # print(lowest_file_short)\n",
    "    option, _, _, _, ws, _, h_step, _, _, _, _, _, _,  _, _, _= lowest_file_short.split(\"_\")\n",
    "    test_ivrmse = np.load(f\"results/test_short_ttm/ivrmse/{lowest_file_short}\")\n",
    "    test_roos = np.load(f\"results/test_short_ttm/r_oos/{lowest_file_short}\")\n",
    "\n",
    "    # print(f\"h = {h_step} ahead prediction for {option} option:\")\n",
    "    # print(f\"IVRMSE: {test_ivrmse:.3f}, R_oos: {test_roos:.3f}\")\n",
    "    # print(f\"Best hyperparameters: window size {ws}, num layers: {num_head}, kernel height: {key_dim}\")\n",
    "\n",
    "    feature_importance_put.append(test_ivrmse - best_put)\n",
    "print(covs)\n",
    "print(feature_importance_put)"
   ]
  },
  {
   "cell_type": "code",
   "execution_count": 113,
   "id": "8cf9f665",
   "metadata": {},
   "outputs": [
    {
     "name": "stdout",
     "output_type": "stream",
     "text": [
      "_VIX_\n",
      "Lowest value: 0.12322085916184783\n",
      "From file: call_smooth_True_ws_21_h_1_VVIX_SKEW_RVOL_TMS_CRS_EPU_ADS_feature_importanceNEWv2.npy\n",
      "VVIX\n",
      "Lowest value: 0.126480551622533\n",
      "From file: call_smooth_True_ws_21_h_1_VIX_SKEW_RVOL_TMS_CRS_EPU_ADS_feature_importanceNEWv2.npy\n",
      "SKEW\n",
      "Lowest value: 0.13311048258750738\n",
      "From file: call_smooth_True_ws_21_h_1_VIX_VVIX_RVOL_TMS_CRS_EPU_ADS_feature_importanceNEWv2.npy\n",
      "RVOL\n",
      "Lowest value: 0.12317059185049756\n",
      "From file: call_smooth_True_ws_21_h_1_VIX_VVIX_SKEW_TMS_CRS_EPU_ADS_feature_importanceNEWv2.npy\n",
      "TMS\n",
      "Lowest value: 0.11832447953994057\n",
      "From file: call_smooth_True_ws_21_h_1_VIX_VVIX_SKEW_RVOL_CRS_EPU_ADS_feature_importanceNEWv2.npy\n",
      "CRS\n",
      "Lowest value: 0.12815711609662417\n",
      "From file: call_smooth_True_ws_5_h_1_VIX_VVIX_SKEW_RVOL_TMS_EPU_ADS_feature_importanceNEWv2.npy\n",
      "EPU\n",
      "Lowest value: 0.12830737531527622\n",
      "From file: call_smooth_True_ws_5_h_1_VIX_VVIX_SKEW_RVOL_TMS_CRS_ADS_feature_importanceNEWv2.npy\n",
      "ADS\n",
      "Lowest value: 0.13601251885084822\n",
      "From file: call_smooth_True_ws_5_h_1_VIX_VVIX_SKEW_RVOL_TMS_CRS_EPU_feature_importanceNEWv2.npy\n",
      "['_VIX_', 'VVIX', 'SKEW', 'RVOL', 'TMS', 'CRS', 'EPU', 'ADS']\n",
      "[0.00018811443462657396, 0.006441598136911822, 0.007070120827529211, 0.0010604111570205327, 0.0006579655516715105, 0.010451775260296184, 0.006398655686070717, 0.01483759902285052]\n"
     ]
    }
   ],
   "source": [
    "\n",
    "covs = ['_VIX_', 'VVIX', 'SKEW', 'RVOL','TMS', 'CRS', 'EPU', 'ADS']\n",
    "feature_importance_call = []\n",
    "\n",
    "for j in covs:\n",
    "    print(j)\n",
    "\n",
    "    folder_path = \"results/validation_short_ttm/ivrmse/\"  # change this to your folder path\n",
    "    target_substring = \"feature_importanceNEWv2\"  # the substring to look for\n",
    "    step = \"h_1\"\n",
    "    option = 'call'\n",
    "\n",
    "    lowest_value = float('inf')\n",
    "    lowest_file_short = None\n",
    "    i = 0\n",
    "    for file_name in os.listdir(folder_path):\n",
    "        \n",
    "        if file_name.endswith('.npy') and \\\n",
    "            (target_substring in file_name and step in file_name and option in file_name) \\\n",
    "                and (j not in file_name) and (len(file_name.split(\"_\"))>11):\n",
    "            i=i+1\n",
    "            file_path = os.path.join(folder_path, file_name)\n",
    "            try:\n",
    "                value = np.load(file_path)\n",
    "                # If the file contains a single number\n",
    "            \n",
    "                if value < lowest_value:\n",
    "                    lowest_value = value\n",
    "                    lowest_file_short = file_name\n",
    "                    \n",
    "\n",
    "            except Exception as e:\n",
    "                print(f\"Error loading {file_name}: {e}\")\n",
    "\n",
    "    print(f\"Lowest value: {lowest_value}\")\n",
    "    print(f\"From file: {lowest_file_short}\")\n",
    "    # print(i)\n",
    "    # print(lowest_file_short)\n",
    "    option, _, _, _, ws, _, h_step, _, _, _, _, _, _,  _, _, _= lowest_file_short.split(\"_\")\n",
    "    test_ivrmse = np.load(f\"results/test_short_ttm/ivrmse/{lowest_file_short}\")\n",
    "    test_roos = np.load(f\"results/test_short_ttm/r_oos/{lowest_file_short}\")\n",
    "\n",
    "    # print(f\"h = {h_step} ahead prediction for {option} option:\")\n",
    "    # print(f\"IVRMSE: {test_ivrmse:.3f}, R_oos: {test_roos:.3f}\")\n",
    "    # print(f\"Best hyperparameters: window size {ws}, num layers: {num_head}, kernel height: {key_dim}\")\n",
    "\n",
    "    feature_importance_call.append(test_ivrmse - best_call)\n",
    "print(covs)\n",
    "print(feature_importance_call)"
   ]
  },
  {
   "cell_type": "code",
   "execution_count": 114,
   "id": "50b0f919",
   "metadata": {},
   "outputs": [],
   "source": [
    "covs[0] = \"VIX\""
   ]
  },
  {
   "cell_type": "code",
   "execution_count": 124,
   "id": "3e772086",
   "metadata": {},
   "outputs": [
    {
     "data": {
      "image/png": "[encoded data removed]",
      "text/plain": [
       "<Figure size 1200x500 with 2 Axes>"
      ]
     },
     "metadata": {},
     "output_type": "display_data"
    }
   ],
   "source": [
    "sorted_pairs1 = sorted(zip(feature_importance_call, covs), reverse=True)\n",
    "values1_sorted, labels_sorted1 = zip(*sorted_pairs1)\n",
    "\n",
    "# Sort values2 + labels\n",
    "sorted_pairs2 = sorted(zip(feature_importance_put, covs), reverse=True)\n",
    "values2_sorted, labels_sorted2 = zip(*sorted_pairs2)\n",
    "\n",
    "# Plotting\n",
    "fig, axes = plt.subplots(1, 2, figsize=(12, 5), sharey=False)\n",
    "\n",
    "# Plot Set 1\n",
    "axes[0].bar(labels_sorted2, values2_sorted)\n",
    "axes[0].set_title('Put option')\n",
    "axes[0].set_ylim(bottom=0)\n",
    "\n",
    "axes[1].bar(labels_sorted1, values1_sorted)\n",
    "axes[1].set_title('Call option')\n",
    "axes[1].set_ylabel('IVRMSE increase')\n",
    "\n",
    "# Plot Set 2\n",
    "\n",
    "\n",
    "fig.text(0.5, 0.04, 'Feature importance', ha='center', fontsize=12)\n",
    "\n",
    "plt.tight_layout(rect=[0, 0.05, 1, 1])  # leave space for xlabel\n",
    "\n",
    "plt.show()\n"
   ]
  },
  {
   "cell_type": "markdown",
   "id": "e9c66f6f",
   "metadata": {},
   "source": [
    "Just exploration after this point,\n",
    "\n",
    "original without the covconvlstm framework is different, and more extensively tested wit hyperparameters.\n",
    "May not be as good as a metric as the previous figure"
   ]
  },
  {
   "cell_type": "code",
   "execution_count": 117,
   "id": "008463e3",
   "metadata": {},
   "outputs": [
    {
     "name": "stdout",
     "output_type": "stream",
     "text": [
      "Lowest value: 0.1379967169341764\n",
      "From file: call_smooth_True_ws_63_h_1_2_7_4_fixed.npy\n",
      "12\n",
      "h = 1 ahead prediction for call option:\n",
      "IVRMSE: 0.190, R_oos: 0.538\n",
      "Best hyperparameters: window size 63, num layers: 2, kernel height: 7\n"
     ]
    }
   ],
   "source": [
    "# original without features\n",
    "\n",
    "folder_path = \"results/validation_short_ttm/ivrmse/\"  # change this to your folder path\n",
    "target_substring = \"fixed\"  # the substring to look for\n",
    "step = \"h_1_\"\n",
    "option = 'call'\n",
    "\n",
    "lowest_value = float('inf')\n",
    "lowest_file_short = None\n",
    "i = 0\n",
    "for file_name in os.listdir(folder_path):\n",
    "   \n",
    "    if file_name.endswith('.npy') and target_substring in file_name and step in file_name and option in file_name:\n",
    "        i=i+1\n",
    "        file_path = os.path.join(folder_path, file_name)\n",
    "        try:\n",
    "            value = np.load(file_path)\n",
    "            # If the file contains a single number\n",
    "        \n",
    "            if value < lowest_value:\n",
    "                lowest_value = value\n",
    "                lowest_file_short = file_name\n",
    "                \n",
    "\n",
    "        except Exception as e:\n",
    "            print(f\"Error loading {file_name}: {e}\")\n",
    "\n",
    "print(f\"Lowest value: {lowest_value}\")\n",
    "print(f\"From file: {lowest_file_short}\")\n",
    "print(i)\n",
    "option, _, _, _, ws, _, h_step, num_head, key_dim, _, _= lowest_file_short.split(\"_\")\n",
    "\n",
    "test_ivrmse = np.load(f\"results/test_short_ttm/ivrmse/{lowest_file_short}\")\n",
    "test_roos = np.load(f\"results/test_short_ttm/r_oos/{lowest_file_short}\")\n",
    "\n",
    "print(f\"h = {h_step} ahead prediction for {option} option:\")\n",
    "print(f\"IVRMSE: {test_ivrmse:.3f}, R_oos: {test_roos:.3f}\")\n",
    "print(f\"Best hyperparameters: window size {ws}, num layers: {num_head}, kernel height: {key_dim}\")\n",
    "best_call = test_ivrmse\n"
   ]
  },
  {
   "cell_type": "code",
   "execution_count": 118,
   "id": "25d6ec47",
   "metadata": {},
   "outputs": [
    {
     "name": "stdout",
     "output_type": "stream",
     "text": [
      "_VIX_\n",
      "Lowest value: 0.12270889431565445\n",
      "From file: call_smooth_True_ws_21_h_1_VIX_feature_importancev2.npy\n",
      "VVIX\n",
      "Lowest value: 0.12033210741580908\n",
      "From file: call_smooth_True_ws_63_h_1_VVIX_feature_importancev2.npy\n",
      "SKEW\n",
      "Lowest value: 0.12619011129715865\n",
      "From file: call_smooth_True_ws_21_h_1_SKEW_feature_importancev2.npy\n",
      "RVOL\n",
      "Lowest value: 0.12171581005509131\n",
      "From file: call_smooth_True_ws_21_h_1_RVOL_feature_importancev2.npy\n",
      "TMS\n",
      "Lowest value: 0.12591677667122153\n",
      "From file: call_smooth_True_ws_63_h_1_TMS_feature_importancev2.npy\n",
      "CRS\n",
      "Lowest value: 0.1217572193536745\n",
      "From file: call_smooth_True_ws_21_h_1_CRS_feature_importancev2.npy\n",
      "EPU\n",
      "Lowest value: 0.12316250727839828\n",
      "From file: call_smooth_True_ws_21_h_1_EPU_feature_importancev2.npy\n",
      "ADS\n",
      "Lowest value: 0.12029368740669384\n",
      "From file: call_smooth_True_ws_21_h_1_ADS_feature_importancev2.npy\n",
      "['_VIX_', 'VVIX', 'SKEW', 'RVOL', 'TMS', 'CRS', 'EPU', 'ADS']\n",
      "[-0.017271944577264914, 0.032913577765670915, -0.03517303334993779, 0.03417310499379894, -0.04182197617837902, -0.0037158697681845265, -0.004787844383889461, 0.022912317658846798]\n"
     ]
    }
   ],
   "source": [
    "# Now here, do we do something where we add one feature?\n",
    "covs = ['_VIX_', 'VVIX', 'SKEW', 'RVOL','TMS', 'CRS', 'EPU', 'ADS']\n",
    "feature_importance_call = []\n",
    "\n",
    "for j in covs:\n",
    "    print(j)\n",
    "\n",
    "    folder_path = \"results/validation_short_ttm/ivrmse/\"  # change this to your folder path\n",
    "    target_substring = \"feature_importancev2\"  # the substring to look for\n",
    "    step = \"h_1\"\n",
    "    option = 'call'\n",
    "\n",
    "    lowest_value = float('inf')\n",
    "    lowest_file_short = None\n",
    "    i = 0\n",
    "    for file_name in os.listdir(folder_path):\n",
    "        \n",
    "        if file_name.endswith('.npy') and \\\n",
    "            (target_substring in file_name and step in file_name and option in file_name) \\\n",
    "                and (j in file_name) and (len(file_name.split(\"_\"))<11):\n",
    "            i=i+1\n",
    "            file_path = os.path.join(folder_path, file_name)\n",
    "            try:\n",
    "                value = np.load(file_path)\n",
    "                # If the file contains a single number\n",
    "            \n",
    "                if value < lowest_value:\n",
    "                    lowest_value = value\n",
    "                    lowest_file_short = file_name\n",
    "                    \n",
    "\n",
    "            except Exception as e:\n",
    "                print(f\"Error loading {file_name}: {e}\")\n",
    "\n",
    "    print(f\"Lowest value: {lowest_value}\")\n",
    "    print(f\"From file: {lowest_file_short}\")\n",
    "    # print(i)\n",
    "    # print(lowest_file_short)\n",
    "    option, _, _, _, ws, _, h_step,  _, _, _= lowest_file_short.split(\"_\")\n",
    "    test_ivrmse = np.load(f\"results/test_short_ttm/ivrmse/{lowest_file_short}\")\n",
    "    test_roos = np.load(f\"results/test_short_ttm/r_oos/{lowest_file_short}\")\n",
    "\n",
    "    # print(f\"h = {h_step} ahead prediction for {option} option:\")\n",
    "    # print(f\"IVRMSE: {test_ivrmse:.3f}, R_oos: {test_roos:.3f}\")\n",
    "    # print(f\"Best hyperparameters: window size {ws}, num layers: {num_head}, kernel height: {key_dim}\")\n",
    "\n",
    "    feature_importance_call.append(best_call - test_ivrmse)\n",
    "print(covs)\n",
    "print(feature_importance_call)"
   ]
  },
  {
   "cell_type": "code",
   "execution_count": 119,
   "id": "99ce0821",
   "metadata": {},
   "outputs": [
    {
     "data": {
      "image/png": "[encoded data removed]",
      "text/plain": [
       "<Figure size 1200x500 with 2 Axes>"
      ]
     },
     "metadata": {},
     "output_type": "display_data"
    }
   ],
   "source": [
    "covs[0] = \"VIX\"\n",
    "sorted_pairs1 = sorted(zip(feature_importance_call, covs), reverse=True)\n",
    "values1_sorted, labels_sorted1 = zip(*sorted_pairs1)\n",
    "\n",
    "# Sort values2 + labels\n",
    "sorted_pairs2 = sorted(zip(feature_importance_put, covs), reverse=True)\n",
    "values2_sorted, labels_sorted2 = zip(*sorted_pairs2)\n",
    "\n",
    "# Plotting\n",
    "fig, axes = plt.subplots(1, 2, figsize=(12, 5), sharey=True)\n",
    "\n",
    "# Plot Set 1\n",
    "axes[0].bar(labels_sorted1, values1_sorted)\n",
    "axes[0].set_title('Call option')\n",
    "axes[0].set_ylabel('Counts')\n",
    "axes[0].set_ylim(bottom=0)\n",
    "\n",
    "# Plot Set 2\n",
    "axes[1].bar(labels_sorted2, values2_sorted)\n",
    "axes[1].set_title('Put option')\n",
    "axes[1].set_ylim(bottom=0)\n",
    "\n",
    "fig.text(0.5, 0.04, 'Feature importance', ha='center', fontsize=12)\n",
    "\n",
    "plt.tight_layout(rect=[0, 0.05, 1, 1])  # leave space for xlabel\n",
    "\n",
    "plt.show()\n"
   ]
  }
 ],
 "metadata": {
  "kernelspec": {
   "display_name": "tf_cpu",
   "language": "python",
   "name": "python3"
  },
  "language_info": {
   "codemirror_mode": {
    "name": "ipython",
    "version": 3
   },
   "file_extension": ".py",
   "mimetype": "text/x-python",
   "name": "python",
   "nbconvert_exporter": "python",
   "pygments_lexer": "ipython3",
   "version": "3.10.16"
  }
 },
 "nbformat": 4,
 "nbformat_minor": 5
}
