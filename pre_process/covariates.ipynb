{
 "cells": [
  {
   "cell_type": "code",
   "execution_count": 24,
   "metadata": {},
   "outputs": [],
   "source": [
    "import pandas as pd\n",
    "import numpy as np \n",
    "from sklearn.preprocessing import StandardScaler"
   ]
  },
  {
   "cell_type": "code",
   "execution_count": 2,
   "metadata": {},
   "outputs": [],
   "source": [
    "# Load in all 8 covariates\n",
    "# and put them in one giant dataframe, so it it will be useful \n",
    "\n",
    "VIX = pd.read_csv('../data/covariates/VIX_History.csv')\n",
    "VVIX = pd.read_csv('../data/covariates/VVIX_History.csv')\n",
    "SKEW = pd.read_csv('../data/covariates/SKEW_History.csv')\n",
    "RVOL = pd.read_csv('../data/covariates/RVOL_History.csv')\n",
    "\n",
    "TMS = pd.read_excel('../data/covariates/T10Y3M.xls', skiprows=10)\n",
    "CRS = pd.read_excel('../data/covariates/BAA10Y.xls', skiprows=10)\n",
    "EPU = pd.read_csv('../data/covariates/EPU.csv')\n",
    "ADS = pd.read_excel('../data/covariates/ADS_Index.xlsx')"
   ]
  },
  {
   "cell_type": "code",
   "execution_count": 3,
   "metadata": {},
   "outputs": [],
   "source": [
    "VIX = VIX[['DATE', 'CLOSE']]\n",
    "VIX.rename(columns={'CLOSE': 'VIX'}, inplace=True)\n",
    "VIX['Date'] = pd.to_datetime(VIX['DATE'])\n",
    "VVIX['Date'] = pd.to_datetime(VVIX['DATE'])\n",
    "SKEW['Date'] = pd.to_datetime(SKEW['DATE'])\n",
    "RVOL['Date'] = pd.to_datetime(RVOL['DATE'])\n",
    "\n",
    "VIX = VIX[['Date', 'VIX']]\n",
    "VVIX = VVIX[['Date', 'VVIX']]\n",
    "SKEW = SKEW[['Date', 'SKEW']]\n",
    "RVOL = RVOL[['Date', 'RVOL']]"
   ]
  },
  {
   "cell_type": "code",
   "execution_count": 4,
   "metadata": {},
   "outputs": [],
   "source": [
    "EPU['Date'] = pd.to_datetime(EPU[['year', 'month', 'day']])\n",
    "ADS['Date'] = pd.to_datetime(ADS['Unnamed: 0'], format='%Y:%m:%d')\n",
    "EPU = EPU[['Date', 'daily_policy_index']]\n",
    "ADS = ADS[['Date', 'ADS_Index']]\n",
    "EPU.rename(columns={'daily_policy_index' : 'EPU'}, inplace=True)\n",
    "ADS.rename(columns={'ADS_Index': 'ADS'}, inplace=True)\n",
    "CRS.rename(columns={'observation_date': 'Date', 'BAA10Y': 'CRS'}, inplace=True)\n",
    "TMS.rename(columns={'observation_date': 'Date', 'T10Y3M': 'TMS'}, inplace=True)"
   ]
  },
  {
   "cell_type": "code",
   "execution_count": 5,
   "metadata": {},
   "outputs": [
    {
     "name": "stdout",
     "output_type": "stream",
     "text": [
      "        Date    VIX\n",
      "0 1990-01-02  17.24\n",
      "1 1990-01-03  18.19\n",
      "2 1990-01-04  19.22\n",
      "3 1990-01-05  20.11\n",
      "4 1990-01-08  20.26         Date   VVIX\n",
      "0 2006-03-06  71.73\n",
      "1 2006-03-15  15.71\n",
      "2 2006-03-16  27.94\n",
      "3 2006-03-17  28.60\n",
      "4 2006-03-20  37.93         Date    SKEW\n",
      "0 1990-01-02  126.09\n",
      "1 1990-01-03  123.34\n",
      "2 1990-01-04  122.62\n",
      "3 1990-01-05  121.27\n",
      "4 1990-01-08  124.12         Date   RVOL\n",
      "0 2001-02-01  22.17\n",
      "1 2001-02-02  15.21\n",
      "2 2001-02-05  14.97\n",
      "3 2001-02-06  11.72\n",
      "4 2001-02-07  12.10\n"
     ]
    }
   ],
   "source": [
    "print(VIX.head(), VVIX.head(), SKEW.head(), RVOL.head())"
   ]
  },
  {
   "cell_type": "code",
   "execution_count": 6,
   "metadata": {},
   "outputs": [
    {
     "name": "stdout",
     "output_type": "stream",
     "text": [
      "        Date   TMS\n",
      "0 1982-01-04  2.32\n",
      "1 1982-01-05  2.24\n",
      "2 1982-01-06  2.43\n",
      "3 1982-01-07  2.46\n",
      "4 1982-01-08  2.50         Date   CRS\n",
      "0 1986-01-02  2.34\n",
      "1 1986-01-03  2.30\n",
      "2 1986-01-06  2.29\n",
      "3 1986-01-07  2.35\n",
      "4 1986-01-08  2.21         Date     EPU\n",
      "0 1985-01-01  103.83\n",
      "1 1985-01-02  296.43\n",
      "2 1985-01-03   56.06\n",
      "3 1985-01-04  118.45\n",
      "4 1985-01-05   88.56         Date       ADS\n",
      "0 1960-03-01 -0.577848\n",
      "1 1960-03-02 -0.626722\n",
      "2 1960-03-03 -0.672480\n",
      "3 1960-03-04 -0.715141\n",
      "4 1960-03-05 -0.754721\n"
     ]
    }
   ],
   "source": [
    "print(TMS.head(), CRS.head(), EPU.head(), ADS.head())"
   ]
  },
  {
   "cell_type": "code",
   "execution_count": 14,
   "metadata": {},
   "outputs": [],
   "source": [
    "IVS = pd.read_csv('../data/before_pre/data_adj_long.csv') # IVS = pd.read_excel('data/before_pre/data_adj.xlsx')\n",
    "IVS.rename(columns={'date' : 'Date'}, inplace=True)\n",
    "IVS['Date'] = pd.to_datetime(IVS['Date'])\n",
    "Dates = IVS['Date'].copy().drop_duplicates()"
   ]
  },
  {
   "cell_type": "code",
   "execution_count": 15,
   "metadata": {},
   "outputs": [],
   "source": [
    "covariates = [Dates, VIX, VVIX, SKEW, RVOL, TMS, CRS, EPU, ADS]"
   ]
  },
  {
   "cell_type": "code",
   "execution_count": 16,
   "metadata": {},
   "outputs": [],
   "source": [
    "covariates_df = covariates[0]\n",
    "for df in covariates[1:]:\n",
    "    covariates_df = pd.merge(covariates_df, df, on='Date', how='left')"
   ]
  },
  {
   "cell_type": "code",
   "execution_count": 17,
   "metadata": {},
   "outputs": [
    {
     "name": "stdout",
     "output_type": "stream",
     "text": [
      "           Date    VIX   VVIX    SKEW   RVOL   TMS   CRS     EPU       ADS\n",
      "0    2012-01-03  22.97  91.39  117.10  18.82  1.95  3.29  200.32  0.572803\n",
      "1    2012-01-04  22.22  88.89  117.63  18.82  1.98  3.30  159.76  0.579283\n",
      "2    2012-01-05  21.48  87.69  117.76  18.47  2.00  3.27   92.24  0.585905\n",
      "3    2012-01-06  20.63  86.95  118.29  18.49  1.96  3.27  134.12  0.592671\n",
      "4    2012-01-09  21.07  87.80  119.07  18.49  1.97  3.28  126.95  0.612120\n",
      "...         ...    ...    ...     ...    ...   ...   ...     ...       ...\n",
      "2802 2023-02-22  22.29  91.24  122.81  15.71 -0.91  1.85  140.33 -0.270129\n",
      "2803 2023-02-23  21.14  85.16  121.85  15.78 -0.96  1.86  188.33 -0.291259\n",
      "2804 2023-02-24  21.67  85.26  121.22  16.23 -0.91  1.86   82.35 -0.312003\n",
      "2805 2023-02-27  20.95  83.21  120.54  15.86 -0.97  1.87  130.62 -0.370847\n",
      "2806 2023-02-28  20.70  80.76  120.01  15.89 -0.96  1.90   88.38 -0.387825\n",
      "\n",
      "[2807 rows x 9 columns]\n"
     ]
    }
   ],
   "source": [
    "print(covariates_df)"
   ]
  },
  {
   "cell_type": "code",
   "execution_count": 18,
   "metadata": {},
   "outputs": [],
   "source": [
    "covariates_df.to_excel('../data/before_pre/covariates.xlsx', index=False)"
   ]
  },
  {
   "cell_type": "code",
   "execution_count": 19,
   "metadata": {},
   "outputs": [],
   "source": [
    "# Everything must be standardized according to the training set, \n",
    "# and also a version where everything is standardized along with the validation set!!!\n",
    "\n",
    "# Training data up to and including 2021-06-12 ~70 percent\n",
    "# Validation data 2021-06-13 up to and including 2022-06-19 ~10 percent\n",
    "# Testing data from 2022-06-20 onwards ~20 percent\n",
    "\n",
    "train_cutoff = pd.Timestamp('2021-06-12')\n",
    "validation_cutoff = pd.Timestamp('2022-06-19')"
   ]
  },
  {
   "cell_type": "code",
   "execution_count": 20,
   "metadata": {},
   "outputs": [],
   "source": [
    "train_df = covariates_df[covariates_df['Date'] <= train_cutoff]\n",
    "train_df = train_df.drop(columns='Date')\n",
    "\n",
    "scaler = StandardScaler()\n",
    "scaler.fit(train_df)\n",
    "\n",
    "covariates_scaled = scaler.transform(covariates_df.drop(columns='Date'))\n",
    "\n",
    "standard_covariates = pd.DataFrame(covariates_scaled, columns=covariates_df.columns[1:])\n",
    "standard_covariates.insert(0, 'Date', covariates_df['Date'])\n",
    "\n",
    "standard_covariates.to_excel('../data/final/covariates/covariates_train_long.xlsx', index=False)"
   ]
  },
  {
   "cell_type": "code",
   "execution_count": 21,
   "metadata": {},
   "outputs": [],
   "source": [
    "train_df = covariates_df[covariates_df['Date'] <= validation_cutoff]\n",
    "train_df = train_df.drop(columns='Date')\n",
    "\n",
    "scaler = StandardScaler()\n",
    "scaler.fit(train_df)\n",
    "\n",
    "covariates_scaled = scaler.transform(covariates_df.drop(columns='Date'))\n",
    "\n",
    "standard_covariates = pd.DataFrame(covariates_scaled, columns=covariates_df.columns[1:])\n",
    "standard_covariates.insert(0, 'Date', covariates_df['Date'])\n",
    "\n",
    "standard_covariates.to_excel('../data/final/covariates/covariates_validation_long.xlsx', index=False)"
   ]
  },
  {
   "cell_type": "code",
   "execution_count": 22,
   "metadata": {},
   "outputs": [],
   "source": [
    "test = pd.read_excel('../data/final/covariates/covariates_validation_long.xlsx')"
   ]
  },
  {
   "cell_type": "code",
   "execution_count": 23,
   "metadata": {},
   "outputs": [
    {
     "name": "stdout",
     "output_type": "stream",
     "text": [
      "           Date       VIX      VVIX      SKEW      RVOL       TMS       CRS  \\\n",
      "0    2012-01-03  0.785129 -0.336108 -1.284309  0.528081  0.648422  1.603693   \n",
      "1    2012-01-04  0.677823 -0.479619 -1.230229  0.528081  0.687657  1.622647   \n",
      "2    2012-01-05  0.571947 -0.548504 -1.216965  0.491428  0.713814  1.565787   \n",
      "3    2012-01-06  0.450333 -0.590983 -1.162885  0.493523  0.661501  1.565787   \n",
      "4    2012-01-09  0.513286 -0.542190 -1.083296  0.493523  0.674579  1.584740   \n",
      "...         ...       ...       ...       ...       ...       ...       ...   \n",
      "2802 2023-02-22  0.687838 -0.344719 -0.701676  0.202396 -3.091977 -1.125591   \n",
      "2803 2023-02-23  0.523301 -0.693737 -0.799632  0.209726 -3.157368 -1.106637   \n",
      "2804 2023-02-24  0.599131 -0.687997 -0.863915  0.256851 -3.091977 -1.106637   \n",
      "2805 2023-02-27  0.496117 -0.805675 -0.933301  0.218104 -3.170447 -1.087684   \n",
      "2806 2023-02-28  0.460348 -0.946316 -0.987381  0.221246 -3.157368 -1.030824   \n",
      "\n",
      "           EPU       ADS  \n",
      "0     0.935600  0.275103  \n",
      "1     0.478138  0.277421  \n",
      "2    -0.283397  0.279789  \n",
      "3     0.188953  0.282209  \n",
      "4     0.108085  0.289164  \n",
      "...        ...       ...  \n",
      "2802  0.258994 -0.026357  \n",
      "2803  0.800369 -0.033914  \n",
      "2804 -0.394943 -0.041332  \n",
      "2805  0.149478 -0.062377  \n",
      "2806 -0.326932 -0.068449  \n",
      "\n",
      "[2807 rows x 9 columns]\n"
     ]
    }
   ],
   "source": [
    "print(test)"
   ]
  }
 ],
 "metadata": {
  "kernelspec": {
   "display_name": "tf_gpu",
   "language": "python",
   "name": "python3"
  },
  "language_info": {
   "codemirror_mode": {
    "name": "ipython",
    "version": 3
   },
   "file_extension": ".py",
   "mimetype": "text/x-python",
   "name": "python",
   "nbconvert_exporter": "python",
   "pygments_lexer": "ipython3",
   "version": "3.10.16"
  }
 },
 "nbformat": 4,
 "nbformat_minor": 2
}
