{
 "cells": [
  {
   "cell_type": "code",
   "execution_count": null,
   "metadata": {},
   "outputs": [],
   "source": [
    "import pandas as pd\n",
    "import numpy as np"
   ]
  },
  {
   "cell_type": "code",
   "execution_count": null,
   "metadata": {},
   "outputs": [],
   "source": [
    "data = pd.read_csv('data/raw/spx_long.csv')"
   ]
  },
  {
   "cell_type": "code",
   "execution_count": null,
   "metadata": {},
   "outputs": [],
   "source": [
    "print(data.columns)"
   ]
  },
  {
   "cell_type": "code",
   "execution_count": null,
   "metadata": {},
   "outputs": [],
   "source": [
    "#Conduct the same preprocessing steps for the long term option data, should be in surface.ipynb\n",
    "\n",
    "data['strike_price'] = data['strike_price']/1000"
   ]
  },
  {
   "cell_type": "code",
   "execution_count": null,
   "metadata": {},
   "outputs": [],
   "source": [
    "#Drop unique columns, columns where there are only 1 value possible (no additional info)\n",
    "drop = []\n",
    "for i in data.columns:\n",
    "    print(i)\n",
    "    print(data[i].unique())\n",
    "\n",
    "    if len(data[i].unique()) == 1:\n",
    "        drop.append(i)\n",
    "\n",
    "data = data.drop(columns=drop)"
   ]
  },
  {
   "cell_type": "code",
   "execution_count": null,
   "metadata": {},
   "outputs": [],
   "source": [
    "data['date'] = pd.to_datetime(data['date'])\n",
    "data['exdate'] = pd.to_datetime(data['exdate'])\n",
    "\n",
    "data['maturity'] = np.busday_count(data['date'].values.astype('datetime64[D]'), data['exdate'].values.astype('datetime64[D]'))"
   ]
  },
  {
   "cell_type": "code",
   "execution_count": null,
   "metadata": {},
   "outputs": [],
   "source": [
    "spx = pd.read_csv('spx_prices_daily.csv')\n",
    "spx['date'] = pd.to_datetime(spx['Date'], format='%d/%m/%Y')\n",
    "spx = spx.drop(columns='Date')"
   ]
  },
  {
   "cell_type": "code",
   "execution_count": null,
   "metadata": {},
   "outputs": [],
   "source": [
    "data = pd.merge(data, spx, on='date', how='left')"
   ]
  },
  {
   "cell_type": "code",
   "execution_count": null,
   "metadata": {},
   "outputs": [],
   "source": [
    "data['moneyness'] = data['Adj Close'] / data['strike_price']"
   ]
  },
  {
   "cell_type": "code",
   "execution_count": null,
   "metadata": {},
   "outputs": [],
   "source": [
    "first_date = data['date'].min()\n",
    "last_date = data['date'].max()\n",
    "\n",
    "print(\"First Date:\", first_date)\n",
    "print(\"Last Date:\", last_date)"
   ]
  },
  {
   "cell_type": "code",
   "execution_count": null,
   "metadata": {},
   "outputs": [],
   "source": [
    "calls = data[data['cp_flag']=='C']"
   ]
  },
  {
   "cell_type": "code",
   "execution_count": null,
   "metadata": {},
   "outputs": [],
   "source": [
    "import numpy as np\n",
    "import matplotlib.pyplot as plt\n",
    "from mpl_toolkits.mplot3d import Axes3D\n",
    "\n",
    "\n",
    "def surface(date, option):\n",
    "    # Pivot the DataFrame\n",
    "\n",
    "    option_df = data[data['cp_flag']==option]\n",
    "    option_df = option_df[option_df['date']==date]\n",
    "\n",
    "    #print(option_df)\n",
    "    surface = (\n",
    "        option_df[['maturity', 'moneyness', 'impl_volatility']]\n",
    "        .pivot_table(values='impl_volatility', index='moneyness', columns='maturity')\n",
    "        .dropna()\n",
    "    )\n",
    "\n",
    "    # Create the figure object\n",
    "    fig = plt.figure(figsize=(10, 8))\n",
    "\n",
    "    # Add the subplot with projection argument\n",
    "    ax = fig.add_subplot(111, projection='3d')\n",
    "\n",
    "    # Get the 1D values from the pivoted DataFrame\n",
    "    x, y = surface.columns.values, surface.index.values\n",
    "    z = surface.values\n",
    "\n",
    "    # Return coordinate matrices from coordinate vectors\n",
    "    X, Y = np.meshgrid(x, y)\n",
    "\n",
    "    # Set labels\n",
    "    if option == 'C':\n",
    "        text = 'Call'\n",
    "    elif option == 'P':\n",
    "        text = 'Put'\n",
    "    else:\n",
    "        text = 'Error'\n",
    "\n",
    "    ax.set_xlabel('Moneyness')\n",
    "    ax.set_ylabel('Days to expiration')\n",
    "  \n",
    "    ax.set_title(text + ' Implied Volatility Surface')\n",
    "\n",
    "    # Plot with color map based on IV values\n",
    "    surf = ax.plot_surface(Y, X, z, cmap='viridis')  # You can choose a different colormap if desired\n",
    "\n",
    "    # Add a color bar for reference\n",
    "    fig.colorbar(surf, ax=ax, shrink=0.5, aspect=10, label='Implied Volatility')\n",
    "\n",
    "    # Show the plot\n",
    "    plt.show()\n",
    "\n",
    "surface('2023-02-10', 'C')\n",
    "surface('2023-02-10', 'P')"
   ]
  },
  {
   "cell_type": "code",
   "execution_count": null,
   "metadata": {},
   "outputs": [],
   "source": [
    "# Plot them side by side \n",
    "import numpy as np\n",
    "import matplotlib.pyplot as plt\n",
    "from mpl_toolkits.mplot3d import Axes3D\n",
    "\n",
    "\n",
    "def combined_surface(date):\n",
    "    # Filter data for call options\n",
    "    call_df = data[(data['cp_flag'] == 'C') & (data['date'] == date)]\n",
    "    call_surface = (\n",
    "        call_df[['maturity', 'moneyness', 'impl_volatility']]\n",
    "        .pivot_table(values='impl_volatility', index='moneyness', columns='maturity')\n",
    "        .dropna()\n",
    "    )\n",
    "\n",
    "    # Filter data for put options\n",
    "    put_df = data[(data['cp_flag'] == 'P') & (data['date'] == date)]\n",
    "    put_surface = (\n",
    "        put_df[['maturity', 'moneyness', 'impl_volatility']]\n",
    "        .pivot_table(values='impl_volatility', index='moneyness', columns='maturity')\n",
    "        .dropna()\n",
    "    )\n",
    "\n",
    "    fig, (ax1, ax2) = plt.subplots(1, 2, subplot_kw={'projection': '3d'}, figsize=(14, 8))\n",
    "\n",
    "    # Get the meshgrid values for calls\n",
    "    x1, y1 = call_surface.columns.values, call_surface.index.values\n",
    "    z1 = call_surface.values\n",
    "    X1, Y1 = np.meshgrid(x1, y1)\n",
    "\n",
    "    # Get the meshgrid values for puts\n",
    "    x2, y2 = put_surface.columns.values, put_surface.index.values\n",
    "    z2 = put_surface.values\n",
    "    X2, Y2 = np.meshgrid(x2, y2)\n",
    "\n",
    "    color = 'viridis'\n",
    "    # Plot the call surface\n",
    "    surf1 = ax1.plot_surface(Y1, X1, z1, cmap=color)\n",
    "    ax1.set_title('Call Implied Volatility Surface')\n",
    "    ax1.set_xlabel('Moneyness')\n",
    "    ax1.set_ylabel('Days to Expiration')\n",
    "    ax1.set_zlabel('Implied Volatility')\n",
    "\n",
    "    # Plot the put surface\n",
    "    surf2 = ax2.plot_surface(Y2, X2, z2, cmap=color)\n",
    "    ax2.set_title('Put Implied Volatility Surface')\n",
    "    ax2.set_xlabel('Moneyness')\n",
    "    ax2.set_ylabel('Days to Expiration')\n",
    "    ax2.set_zlabel('Implied Volatility')\n",
    "\n",
    "    # Add a single color bar for both subplots\n",
    "    fig.colorbar(surf2, ax=[ax1, ax2], shrink=0.5, aspect=10, pad=0.1, label='Implied Volatility')\n",
    "\n",
    "    # Show the plot\n",
    "    plt.show()\n",
    "\n",
    "# Call the function to plot for a specific date and option types\n",
    "combined_surface('2023-02-10')\n"
   ]
  },
  {
   "cell_type": "code",
   "execution_count": null,
   "metadata": {},
   "outputs": [],
   "source": [
    "print(data[(data['date']=='2023-02-10') & (data['cp_flag'] == 'C')]['maturity'].unique())"
   ]
  },
  {
   "cell_type": "code",
   "execution_count": null,
   "metadata": {},
   "outputs": [],
   "source": [
    "data_adj = data.copy()"
   ]
  },
  {
   "cell_type": "code",
   "execution_count": null,
   "metadata": {},
   "outputs": [],
   "source": [
    "data_adj.loc[data_adj['am_settlement']==1, 'maturity'] -=1"
   ]
  },
  {
   "cell_type": "code",
   "execution_count": null,
   "metadata": {},
   "outputs": [],
   "source": [
    "# PREPROCESS\n",
    "data_adj['midpoint'] = ( data_adj['best_bid'] + data_adj['best_offer'] ) /2 \n",
    "\n",
    "data_adj = data_adj[data_adj['volume']!= 0]\n",
    "data_adj = data_adj[data_adj['midpoint'] > 0.125]\n",
    "data_adj = data_adj[data_adj['best_bid'] != 0]\n",
    "data_adj = data_adj.dropna(subset='impl_volatility')"
   ]
  },
  {
   "cell_type": "code",
   "execution_count": null,
   "metadata": {},
   "outputs": [],
   "source": [
    "data_adj.to_csv(\"data_adj_long.csv\", index=False)"
   ]
  },
  {
   "cell_type": "code",
   "execution_count": null,
   "metadata": {},
   "outputs": [],
   "source": [
    "test= pd.read_csv('data_adj_long.csv')"
   ]
  },
  {
   "cell_type": "code",
   "execution_count": null,
   "metadata": {},
   "outputs": [],
   "source": [
    "print(test.shape)"
   ]
  },
  {
   "cell_type": "code",
   "execution_count": null,
   "metadata": {},
   "outputs": [],
   "source": [
    "print(test.columns)"
   ]
  },
  {
   "cell_type": "code",
   "execution_count": null,
   "metadata": {},
   "outputs": [],
   "source": [
    "print(test['impl_volatility'])"
   ]
  },
  {
   "cell_type": "code",
   "execution_count": null,
   "metadata": {},
   "outputs": [],
   "source": []
  }
 ],
 "metadata": {
  "kernelspec": {
   "display_name": ".conda",
   "language": "python",
   "name": "python3"
  },
  "language_info": {
   "codemirror_mode": {
    "name": "ipython",
    "version": 3
   },
   "file_extension": ".py",
   "mimetype": "text/x-python",
   "name": "python",
   "nbconvert_exporter": "python",
   "pygments_lexer": "ipython3",
   "version": "3.11.7"
  }
 },
 "nbformat": 4,
 "nbformat_minor": 2
}
