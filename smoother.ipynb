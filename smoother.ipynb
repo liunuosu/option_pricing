{
 "cells": [
  {
   "cell_type": "code",
   "execution_count": 8,
   "metadata": {},
   "outputs": [],
   "source": [
    "import pandas as pd\n",
    "import numpy as np \n",
    "import scipy.interpolate as interp \n",
    "import matplotlib.pyplot as plt"
   ]
  },
  {
   "cell_type": "code",
   "execution_count": 12,
   "metadata": {},
   "outputs": [
    {
     "ename": "ValueError",
     "evalue": "The length of x, y and z should be at least (kx+1) * (ky+1)",
     "output_type": "error",
     "traceback": [
      "\u001b[1;31m---------------------------------------------------------------------------\u001b[0m",
      "\u001b[1;31mValueError\u001b[0m                                Traceback (most recent call last)",
      "Cell \u001b[1;32mIn[12], line 6\u001b[0m\n\u001b[0;32m      3\u001b[0m z \u001b[38;5;241m=\u001b[39m np\u001b[38;5;241m.\u001b[39marray([\u001b[38;5;241m0\u001b[39m, \u001b[38;5;241m1\u001b[39m, \u001b[38;5;241m4\u001b[39m, \u001b[38;5;241m9\u001b[39m, \u001b[38;5;241m16\u001b[39m,\u001b[38;5;241m25\u001b[39m,\u001b[38;5;241m36\u001b[39m, \u001b[38;5;241m49\u001b[39m,\u001b[38;5;241m64\u001b[39m,\u001b[38;5;241m81\u001b[39m,\u001b[38;5;241m100\u001b[39m])  \u001b[38;5;66;03m# z = x^2\u001b[39;00m\n\u001b[0;32m      5\u001b[0m \u001b[38;5;66;03m# Step 2: Fit the bivariate spline\u001b[39;00m\n\u001b[1;32m----> 6\u001b[0m spline \u001b[38;5;241m=\u001b[39m \u001b[43minterp\u001b[49m\u001b[38;5;241;43m.\u001b[39;49m\u001b[43mSmoothBivariateSpline\u001b[49m\u001b[43m(\u001b[49m\u001b[43mx\u001b[49m\u001b[43m,\u001b[49m\u001b[43m \u001b[49m\u001b[43my\u001b[49m\u001b[43m,\u001b[49m\u001b[43m \u001b[49m\u001b[43mz\u001b[49m\u001b[43m)\u001b[49m\n\u001b[0;32m      8\u001b[0m \u001b[38;5;66;03m# Step 3: Evaluate the spline at new points (e.g., a grid)\u001b[39;00m\n\u001b[0;32m      9\u001b[0m xnew \u001b[38;5;241m=\u001b[39m np\u001b[38;5;241m.\u001b[39mlinspace(\u001b[38;5;241m0\u001b[39m, \u001b[38;5;241m4\u001b[39m, \u001b[38;5;241m100\u001b[39m)\n",
      "File \u001b[1;32mc:\\Users\\hydra\\AppData\\Local\\Programs\\Python\\Python310\\lib\\site-packages\\scipy\\interpolate\\_fitpack2.py:1395\u001b[0m, in \u001b[0;36mSmoothBivariateSpline.__init__\u001b[1;34m(self, x, y, z, w, bbox, kx, ky, s, eps)\u001b[0m\n\u001b[0;32m   1392\u001b[0m \u001b[38;5;28;01mdef\u001b[39;00m \u001b[38;5;21m__init__\u001b[39m(\u001b[38;5;28mself\u001b[39m, x, y, z, w\u001b[38;5;241m=\u001b[39m\u001b[38;5;28;01mNone\u001b[39;00m, bbox\u001b[38;5;241m=\u001b[39m[\u001b[38;5;28;01mNone\u001b[39;00m] \u001b[38;5;241m*\u001b[39m \u001b[38;5;241m4\u001b[39m, kx\u001b[38;5;241m=\u001b[39m\u001b[38;5;241m3\u001b[39m, ky\u001b[38;5;241m=\u001b[39m\u001b[38;5;241m3\u001b[39m, s\u001b[38;5;241m=\u001b[39m\u001b[38;5;28;01mNone\u001b[39;00m,\n\u001b[0;32m   1393\u001b[0m              eps\u001b[38;5;241m=\u001b[39m\u001b[38;5;241m1e-16\u001b[39m):\n\u001b[1;32m-> 1395\u001b[0m     x, y, z, w \u001b[38;5;241m=\u001b[39m \u001b[38;5;28;43mself\u001b[39;49m\u001b[38;5;241;43m.\u001b[39;49m\u001b[43m_validate_input\u001b[49m\u001b[43m(\u001b[49m\u001b[43mx\u001b[49m\u001b[43m,\u001b[49m\u001b[43m \u001b[49m\u001b[43my\u001b[49m\u001b[43m,\u001b[49m\u001b[43m \u001b[49m\u001b[43mz\u001b[49m\u001b[43m,\u001b[49m\u001b[43m \u001b[49m\u001b[43mw\u001b[49m\u001b[43m,\u001b[49m\u001b[43m \u001b[49m\u001b[43mkx\u001b[49m\u001b[43m,\u001b[49m\u001b[43m \u001b[49m\u001b[43mky\u001b[49m\u001b[43m,\u001b[49m\u001b[43m \u001b[49m\u001b[43meps\u001b[49m\u001b[43m)\u001b[49m\n\u001b[0;32m   1396\u001b[0m     bbox \u001b[38;5;241m=\u001b[39m ravel(bbox)\n\u001b[0;32m   1397\u001b[0m     \u001b[38;5;28;01mif\u001b[39;00m \u001b[38;5;129;01mnot\u001b[39;00m bbox\u001b[38;5;241m.\u001b[39mshape \u001b[38;5;241m==\u001b[39m (\u001b[38;5;241m4\u001b[39m,):\n",
      "File \u001b[1;32mc:\\Users\\hydra\\AppData\\Local\\Programs\\Python\\Python310\\lib\\site-packages\\scipy\\interpolate\\_fitpack2.py:1290\u001b[0m, in \u001b[0;36mBivariateSpline._validate_input\u001b[1;34m(x, y, z, w, kx, ky, eps)\u001b[0m\n\u001b[0;32m   1288\u001b[0m     \u001b[38;5;28;01mraise\u001b[39;00m \u001b[38;5;167;01mValueError\u001b[39;00m(\u001b[38;5;124m'\u001b[39m\u001b[38;5;124meps should be between (0, 1)\u001b[39m\u001b[38;5;124m'\u001b[39m)\n\u001b[0;32m   1289\u001b[0m \u001b[38;5;28;01mif\u001b[39;00m \u001b[38;5;129;01mnot\u001b[39;00m x\u001b[38;5;241m.\u001b[39msize \u001b[38;5;241m>\u001b[39m\u001b[38;5;241m=\u001b[39m (kx \u001b[38;5;241m+\u001b[39m \u001b[38;5;241m1\u001b[39m) \u001b[38;5;241m*\u001b[39m (ky \u001b[38;5;241m+\u001b[39m \u001b[38;5;241m1\u001b[39m):\n\u001b[1;32m-> 1290\u001b[0m     \u001b[38;5;28;01mraise\u001b[39;00m \u001b[38;5;167;01mValueError\u001b[39;00m(\u001b[38;5;124m'\u001b[39m\u001b[38;5;124mThe length of x, y and z should be at least\u001b[39m\u001b[38;5;124m'\u001b[39m\n\u001b[0;32m   1291\u001b[0m                      \u001b[38;5;124m'\u001b[39m\u001b[38;5;124m (kx+1) * (ky+1)\u001b[39m\u001b[38;5;124m'\u001b[39m)\n\u001b[0;32m   1292\u001b[0m \u001b[38;5;28;01mreturn\u001b[39;00m x, y, z, w\n",
      "\u001b[1;31mValueError\u001b[0m: The length of x, y and z should be at least (kx+1) * (ky+1)"
     ]
    }
   ],
   "source": [
    "x = np.array([0, 1, 2, 3, 4,5,6,7,8,9,10 ])\n",
    "y = np.array([0, 1, 2, 3, 4,5,6,7,8,9,10])\n",
    "z = np.array([0, 1, 4, 9, 16,25,36, 49,64,81,100])  # z = x^2\n",
    "\n",
    "# Step 2: Fit the bivariate spline\n",
    "spline = interp.SmoothBivariateSpline(x, y, z)\n",
    "\n",
    "# Step 3: Evaluate the spline at new points (e.g., a grid)\n",
    "xnew = np.linspace(0, 4, 100)\n",
    "ynew = np.linspace(0, 4, 100)\n",
    "X, Y = np.meshgrid(xnew, ynew)\n",
    "Z = spline(X, Y)\n",
    "\n",
    "# Step 4: Plot the result\n",
    "fig = plt.figure(figsize=(8, 6))\n",
    "ax = fig.add_subplot(111, projection='3d')\n",
    "ax.plot_surface(X, Y, Z, cmap='viridis')\n",
    "\n",
    "# Show the plot\n",
    "plt.show()"
   ]
  },
  {
   "cell_type": "code",
   "execution_count": 22,
   "metadata": {},
   "outputs": [
    {
     "ename": "ValueError",
     "evalue": "x must be strictly increasing when `grid` is True",
     "output_type": "error",
     "traceback": [
      "\u001b[1;31m---------------------------------------------------------------------------\u001b[0m",
      "\u001b[1;31mValueError\u001b[0m                                Traceback (most recent call last)",
      "Cell \u001b[1;32mIn[22], line 20\u001b[0m\n\u001b[0;32m     18\u001b[0m ynew \u001b[38;5;241m=\u001b[39m np\u001b[38;5;241m.\u001b[39mlinspace(\u001b[38;5;28mmin\u001b[39m(y), \u001b[38;5;28mmax\u001b[39m(y), \u001b[38;5;241m200\u001b[39m)\n\u001b[0;32m     19\u001b[0m X, Y \u001b[38;5;241m=\u001b[39m np\u001b[38;5;241m.\u001b[39mmeshgrid(xnew, ynew)\n\u001b[1;32m---> 20\u001b[0m Z \u001b[38;5;241m=\u001b[39m \u001b[43mspline\u001b[49m\u001b[43m(\u001b[49m\u001b[43mX\u001b[49m\u001b[38;5;241;43m.\u001b[39;49m\u001b[43mravel\u001b[49m\u001b[43m(\u001b[49m\u001b[43m)\u001b[49m\u001b[43m,\u001b[49m\u001b[43m \u001b[49m\u001b[43mY\u001b[49m\u001b[38;5;241;43m.\u001b[39;49m\u001b[43mravel\u001b[49m\u001b[43m(\u001b[49m\u001b[43m)\u001b[49m\u001b[43m)\u001b[49m\u001b[38;5;241m.\u001b[39mreshape(X\u001b[38;5;241m.\u001b[39mshape)\n\u001b[0;32m     22\u001b[0m \u001b[38;5;66;03m# Plotting the result\u001b[39;00m\n\u001b[0;32m     23\u001b[0m fig \u001b[38;5;241m=\u001b[39m plt\u001b[38;5;241m.\u001b[39mfigure(figsize\u001b[38;5;241m=\u001b[39m(\u001b[38;5;241m8\u001b[39m, \u001b[38;5;241m6\u001b[39m))\n",
      "File \u001b[1;32mc:\\Users\\hydra\\AppData\\Local\\Programs\\Python\\Python310\\lib\\site-packages\\scipy\\interpolate\\_fitpack2.py:1029\u001b[0m, in \u001b[0;36m_BivariateSplineBase.__call__\u001b[1;34m(self, x, y, dx, dy, grid)\u001b[0m\n\u001b[0;32m   1026\u001b[0m     \u001b[38;5;28;01mreturn\u001b[39;00m np\u001b[38;5;241m.\u001b[39mzeros((x\u001b[38;5;241m.\u001b[39msize, y\u001b[38;5;241m.\u001b[39msize), dtype\u001b[38;5;241m=\u001b[39m\u001b[38;5;28mself\u001b[39m\u001b[38;5;241m.\u001b[39mtck[\u001b[38;5;241m2\u001b[39m]\u001b[38;5;241m.\u001b[39mdtype)\n\u001b[0;32m   1028\u001b[0m \u001b[38;5;28;01mif\u001b[39;00m (x\u001b[38;5;241m.\u001b[39msize \u001b[38;5;241m>\u001b[39m\u001b[38;5;241m=\u001b[39m \u001b[38;5;241m2\u001b[39m) \u001b[38;5;129;01mand\u001b[39;00m (\u001b[38;5;129;01mnot\u001b[39;00m np\u001b[38;5;241m.\u001b[39mall(np\u001b[38;5;241m.\u001b[39mdiff(x) \u001b[38;5;241m>\u001b[39m\u001b[38;5;241m=\u001b[39m \u001b[38;5;241m0.0\u001b[39m)):\n\u001b[1;32m-> 1029\u001b[0m     \u001b[38;5;28;01mraise\u001b[39;00m \u001b[38;5;167;01mValueError\u001b[39;00m(\u001b[38;5;124m\"\u001b[39m\u001b[38;5;124mx must be strictly increasing when `grid` is True\u001b[39m\u001b[38;5;124m\"\u001b[39m)\n\u001b[0;32m   1030\u001b[0m \u001b[38;5;28;01mif\u001b[39;00m (y\u001b[38;5;241m.\u001b[39msize \u001b[38;5;241m>\u001b[39m\u001b[38;5;241m=\u001b[39m \u001b[38;5;241m2\u001b[39m) \u001b[38;5;129;01mand\u001b[39;00m (\u001b[38;5;129;01mnot\u001b[39;00m np\u001b[38;5;241m.\u001b[39mall(np\u001b[38;5;241m.\u001b[39mdiff(y) \u001b[38;5;241m>\u001b[39m\u001b[38;5;241m=\u001b[39m \u001b[38;5;241m0.0\u001b[39m)):\n\u001b[0;32m   1031\u001b[0m     \u001b[38;5;28;01mraise\u001b[39;00m \u001b[38;5;167;01mValueError\u001b[39;00m(\u001b[38;5;124m\"\u001b[39m\u001b[38;5;124my must be strictly increasing when `grid` is True\u001b[39m\u001b[38;5;124m\"\u001b[39m)\n",
      "\u001b[1;31mValueError\u001b[0m: x must be strictly increasing when `grid` is True"
     ]
    }
   ],
   "source": [
    "import numpy as np\n",
    "import scipy.interpolate as interp\n",
    "import matplotlib.pyplot as plt\n",
    "\n",
    "# Example data (adding more points to satisfy the requirement for kx=3, ky=3)\n",
    "x = np.array([0, 1, 2, 3, 4, 5, 6, 7, 8, 9, 10, 11, 12, 13, 14, 15])\n",
    "y = np.array([0, 1, 2, 3, 4, 5, 6, 7, 8, 9, 10, 11, 12, 13, 14, 15])\n",
    "z = np.array([0, 1, 4, 9, 16, 25, 36, 49, 64, 81, 100, 121, 144, 169, 196, 225])\n",
    "\n",
    "# Adjust spline degrees (optional) if not adding more points\n",
    "# spline = interp.SmoothBivariateSpline(x, y, z, kx=2, ky=2)\n",
    "\n",
    "# Create a SmoothBivariateSpline object\n",
    "spline = interp.SmoothBivariateSpline(x, y, z)\n",
    "\n",
    "# Evaluate the spline on a grid\n",
    "xnew = np.linspace(min(x), max(x), 200)\n",
    "ynew = np.linspace(min(y), max(y), 200)\n",
    "X, Y = np.meshgrid(xnew, ynew)\n",
    "Z = spline(X.ravel(), Y.ravel()).reshape(X.shape)\n",
    "\n",
    "# Plotting the result\n",
    "fig = plt.figure(figsize=(8, 6))\n",
    "ax = fig.add_subplot(111, projection='3d')\n",
    "ax.plot_surface(X, Y, Z, cmap='viridis')\n",
    "plt.show()\n"
   ]
  },
  {
   "cell_type": "code",
   "execution_count": 32,
   "metadata": {},
   "outputs": [
    {
     "data": {
      "image/png": "[encoded data removed]",
      "text/plain": [
       "<Figure size 640x480 with 1 Axes>"
      ]
     },
     "metadata": {},
     "output_type": "display_data"
    },
    {
     "data": {
      "image/png": "[encoded data removed]",
      "text/plain": [
       "<Figure size 640x480 with 1 Axes>"
      ]
     },
     "metadata": {},
     "output_type": "display_data"
    }
   ],
   "source": [
    "#!/bin/python3.7\n",
    "\n",
    "\"\"\"\n",
    "\n",
    "Use spline interpolation to on grid of x,y,z value where z is either xdiff or ydiff for use as imagemagick 2D displacement maps\n",
    "\n",
    "\"\"\"\n",
    "\n",
    "import numpy as np\n",
    "from scipy.interpolate import SmoothBivariateSpline\n",
    "from skimage import io\n",
    "\n",
    "\n",
    "# python lists of x,y dst control points and zx=xsrc-xdiff, zy=ysrc-ydiff offsets to be interpolated over full image of size 129x129\n",
    "x = [8.5, 20.5, 33.5, 48.5, 64.5, 80.5, 95.5, 109.5, 121.5, 5.5, 17.5, 31.5, 46.5, 64.5, 81.5, 97.5, 111.5, 123.5, 2.5, 14.5, 29.5, 45.5, 64.5, 83.5, 99.5, 113.5, 125.5, 1.5, 12.5, 26.5, 43.5, 64.5, 85.5, 103.5, 116.5, 127.5, 0.5, 11.5, 24.5, 41.5, 64.5, 87.5, 103.5, 117.5, 128.5, 1.5, 12.5, 25.5, 42.5, 64.5, 86.5, 103.5, 116.5, 127.5, 2.5, 14.5, 28.5, 45.5, 64.5, 83.5, 100.5, 114.5, 125.5, 5.5, 17.5, 30.5, 46.5, 64.5, 81.5, 97.5, 111.5, 123.5, 8.5, 19.5, 33.5, 48.5, 64.5, 80.5, 95.5, 109.5, 121.5]\n",
    "y = [7.5, 5.5, 3.5, 1.5, 1.5, 1.5, 3.5, 5.5, 7.5, 20.5, 16.5, 14.5, 12.5, 11.5, 12.5, 15.5, 16.5, 19.5, 33.5, 31.5, 28.5, 26.5, 24.5, 26.5, 28.5, 31.5, 33.5, 48.5, 47.5, 45.5, 42.5, 40.5, 42.5, 45.5, 46.5, 48.5, 64.5, 64.5, 64.5, 64.5, 64.5, 64.5, 64.5, 64.5, 64.5, 80.5, 81.5, 83.5, 86.5, 87.5, 86.5, 83.5, 81.5, 80.5, 95.5, 97.5, 100.5, 103.5, 104.5, 102.5, 100.5, 97.5, 95.5, 109.5, 111.5, 114.5, 116.5, 117.5, 116.5, 114.5, 111.5, 109.5, 121.5, 123.5, 125.5, 127.5, 127.5, 127.5, 125.5, 123.5, 120.5]\n",
    "zx = [119.5, 123.5, 126.5, 127.5, 127.5, 127.5, 128.5, 130.5, 134.5, 122.5, 126.5, 128.5, 129.5, 127.5, 126.5, 126.5, 128.5, 132.5, 125.5, 129.5, 130.5, 130.5, 127.5, 124.5, 124.5, 126.5, 130.5, 126.5, 131.5, 133.5, 132.5, 127.5, 122.5, 120.5, 123.5, 128.5, 127.5, 132.5, 135.5, 134.5, 127.5, 120.5, 120.5, 122.5, 127.5, 126.5, 131.5, 134.5, 133.5, 127.5, 121.5, 120.5, 123.5, 128.5, 125.5, 129.5, 131.5, 130.5, 127.5, 124.5, 123.5, 125.5, 130.5, 122.5, 126.5, 129.5, 129.5, 127.5, 126.5, 126.5, 128.5, 132.5, 119.5, 124.5, 126.5, 127.5, 127.5, 127.5, 128.5, 130.5, 134.5]\n",
    "zy = [120.5, 122.5, 124.5, 126.5, 126.5, 126.5, 124.5, 122.5, 120.5, 123.5, 127.5, 129.5, 131.5, 132.5, 131.5, 128.5, 127.5, 124.5, 126.5, 128.5, 131.5, 133.5, 135.5, 133.5, 131.5, 128.5, 126.5, 127.5, 128.5, 130.5, 133.5, 135.5, 133.5, 130.5, 129.5, 127.5, 127.5, 127.5, 127.5, 127.5, 127.5, 127.5, 127.5, 127.5, 127.5, 127.5, 126.5, 124.5, 121.5, 120.5, 121.5, 124.5, 126.5, 127.5, 128.5, 126.5, 123.5, 120.5, 119.5, 121.5, 123.5, 126.5, 128.5, 130.5, 128.5, 125.5, 123.5, 122.5, 123.5, 125.5, 128.5, 130.5, 134.5, 132.5, 130.5, 128.5, 128.5, 128.5, 130.5, 132.5, 135.5]\n",
    "\n",
    "# convert python lists to numpy arrays\n",
    "ax = np.asarray(x)\n",
    "ay = np.asarray(y)\n",
    "azx = np.asarray(zx)\n",
    "azy = np.asarray(zy)\n",
    "\n",
    "\n",
    "# define bbox of interpolated data\n",
    "# bbox=[minx, maxx, miny, maxy]\n",
    "bbox=[0, 129, 0, 129]\n",
    "\n",
    "# convert bbox to numpy array\n",
    "abbox = np.asarray(bbox)\n",
    "\n",
    "# do interpolations\n",
    "xd = SmoothBivariateSpline(ax, ay, azx, w=None, bbox=abbox, kx=3, ky=3)\n",
    "yd = SmoothBivariateSpline(ax, ay, azy, w=None, bbox=abbox, kx=3, ky=3)\n",
    "\n",
    "# define integer grid onto which to interpolate\n",
    "grid_x=np.linspace(0, 129, num=129)\n",
    "grid_y=np.linspace(0, 129, num=129)\n",
    "\n",
    "\n",
    "# evaluate at grid points\n",
    "xdisplace = xd.__call__(grid_x, grid_y, grid=True)\n",
    "ydisplace = yd.__call__(grid_x, grid_y, grid=True)\n",
    "\n",
    "# save output using skimage\n",
    "io.imsave(\"xdimgs.png\", xdisplace.astype('uint8'))\n",
    "io.imsave(\"ydimgs.png\", ydisplace.astype('uint8'))\n",
    "\n",
    "# view output using skimage\n",
    "io.imshow(xdisplace.astype('uint8')) \n",
    "io.show()\n",
    "io.imshow(ydisplace.astype('uint8')) \n",
    "io.show()"
   ]
  },
  {
   "cell_type": "code",
   "execution_count": 30,
   "metadata": {},
   "outputs": [
    {
     "name": "stdout",
     "output_type": "stream",
     "text": [
      "Collecting scikit-image\n",
      "  Downloading scikit_image-0.24.0-cp310-cp310-win_amd64.whl.metadata (14 kB)\n",
      "Requirement already satisfied: numpy>=1.23 in c:\\users\\hydra\\appdata\\local\\programs\\python\\python310\\lib\\site-packages (from scikit-image) (1.24.4)\n",
      "Requirement already satisfied: scipy>=1.9 in c:\\users\\hydra\\appdata\\local\\programs\\python\\python310\\lib\\site-packages (from scikit-image) (1.11.4)\n",
      "Requirement already satisfied: networkx>=2.8 in c:\\users\\hydra\\appdata\\local\\programs\\python\\python310\\lib\\site-packages (from scikit-image) (3.2.1)\n",
      "Requirement already satisfied: pillow>=9.1 in c:\\users\\hydra\\appdata\\local\\programs\\python\\python310\\lib\\site-packages (from scikit-image) (10.1.0)\n",
      "Collecting imageio>=2.33 (from scikit-image)\n",
      "  Downloading imageio-2.36.0-py3-none-any.whl.metadata (5.2 kB)\n",
      "Collecting tifffile>=2022.8.12 (from scikit-image)\n",
      "  Downloading tifffile-2024.9.20-py3-none-any.whl.metadata (32 kB)\n",
      "Requirement already satisfied: packaging>=21 in c:\\users\\hydra\\appdata\\roaming\\python\\python310\\site-packages (from scikit-image) (23.2)\n",
      "Collecting lazy-loader>=0.4 (from scikit-image)\n",
      "  Downloading lazy_loader-0.4-py3-none-any.whl.metadata (7.6 kB)\n",
      "Downloading scikit_image-0.24.0-cp310-cp310-win_amd64.whl (12.9 MB)\n",
      "   ---------------------------------------- 0.0/12.9 MB ? eta -:--:--\n",
      "   -- ------------------------------------- 0.8/12.9 MB 5.6 MB/s eta 0:00:03\n",
      "   ------- -------------------------------- 2.4/12.9 MB 6.7 MB/s eta 0:00:02\n",
      "   ----------- ---------------------------- 3.7/12.9 MB 6.2 MB/s eta 0:00:02\n",
      "   -------------- ------------------------- 4.7/12.9 MB 6.2 MB/s eta 0:00:02\n",
      "   ------------------ --------------------- 6.0/12.9 MB 6.1 MB/s eta 0:00:02\n",
      "   ---------------------- ----------------- 7.3/12.9 MB 6.2 MB/s eta 0:00:01\n",
      "   --------------------------- ------------ 8.9/12.9 MB 6.4 MB/s eta 0:00:01\n",
      "   ------------------------------ --------- 9.7/12.9 MB 6.2 MB/s eta 0:00:01\n",
      "   ----------------------------------- ---- 11.5/12.9 MB 6.2 MB/s eta 0:00:01\n",
      "   ---------------------------------------  12.6/12.9 MB 6.1 MB/s eta 0:00:01\n",
      "   ---------------------------------------- 12.9/12.9 MB 6.1 MB/s eta 0:00:00\n",
      "Downloading imageio-2.36.0-py3-none-any.whl (315 kB)\n",
      "Downloading lazy_loader-0.4-py3-none-any.whl (12 kB)\n",
      "Downloading tifffile-2024.9.20-py3-none-any.whl (228 kB)\n",
      "Installing collected packages: tifffile, lazy-loader, imageio, scikit-image\n",
      "Successfully installed imageio-2.36.0 lazy-loader-0.4 scikit-image-0.24.0 tifffile-2024.9.20\n",
      "Note: you may need to restart the kernel to use updated packages.\n"
     ]
    },
    {
     "name": "stderr",
     "output_type": "stream",
     "text": [
      "  WARNING: The scripts lsm2bin.exe, tiff2fsspec.exe, tiffcomment.exe and tifffile.exe are installed in 'c:\\Users\\hydra\\AppData\\Local\\Programs\\Python\\Python310\\Scripts' which is not on PATH.\n",
      "  Consider adding this directory to PATH or, if you prefer to suppress this warning, use --no-warn-script-location.\n",
      "  WARNING: The scripts imageio_download_bin.exe and imageio_remove_bin.exe are installed in 'c:\\Users\\hydra\\AppData\\Local\\Programs\\Python\\Python310\\Scripts' which is not on PATH.\n",
      "  Consider adding this directory to PATH or, if you prefer to suppress this warning, use --no-warn-script-location.\n",
      "\n",
      "[notice] A new release of pip is available: 24.2 -> 24.3.1\n",
      "[notice] To update, run: python.exe -m pip install --upgrade pip\n"
     ]
    }
   ],
   "source": [
    "pip install scikit-image\n"
   ]
  },
  {
   "cell_type": "code",
   "execution_count": null,
   "metadata": {},
   "outputs": [],
   "source": []
  }
 ],
 "metadata": {
  "kernelspec": {
   "display_name": "Python 3",
   "language": "python",
   "name": "python3"
  },
  "language_info": {
   "codemirror_mode": {
    "name": "ipython",
    "version": 3
   },
   "file_extension": ".py",
   "mimetype": "text/x-python",
   "name": "python",
   "nbconvert_exporter": "python",
   "pygments_lexer": "ipython3",
   "version": "3.10.7"
  }
 },
 "nbformat": 4,
 "nbformat_minor": 2
}
